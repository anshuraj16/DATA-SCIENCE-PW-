{
 "cells": [
  {
   "cell_type": "code",
   "execution_count": 38,
   "id": "364a9afc-3d60-44b2-82bd-d3cb60e8e53c",
   "metadata": {},
   "outputs": [
    {
     "data": {
      "text/plain": [
       "2"
      ]
     },
     "execution_count": 38,
     "metadata": {},
     "output_type": "execute_result"
    }
   ],
   "source": [
    "1 + 1"
   ]
  },
  {
   "cell_type": "code",
   "execution_count": 39,
   "id": "04674d79-f844-483f-901a-934a31d4dd62",
   "metadata": {},
   "outputs": [],
   "source": [
    "a = 10"
   ]
  },
  {
   "cell_type": "code",
   "execution_count": 40,
   "id": "86aecf36-8924-47e9-a36e-b6ead1e77aea",
   "metadata": {},
   "outputs": [
    {
     "data": {
      "text/plain": [
       "10"
      ]
     },
     "execution_count": 40,
     "metadata": {},
     "output_type": "execute_result"
    }
   ],
   "source": [
    "a"
   ]
  },
  {
   "cell_type": "code",
   "execution_count": 41,
   "id": "7e49aa75-8d89-400c-8e28-b693f80bc6f5",
   "metadata": {},
   "outputs": [],
   "source": [
    "b = 20"
   ]
  },
  {
   "cell_type": "code",
   "execution_count": 42,
   "id": "d9a79b3b-33db-4a0c-833f-16ea6fdde1a8",
   "metadata": {},
   "outputs": [
    {
     "data": {
      "text/plain": [
       "20"
      ]
     },
     "execution_count": 42,
     "metadata": {},
     "output_type": "execute_result"
    }
   ],
   "source": [
    "b"
   ]
  },
  {
   "cell_type": "code",
   "execution_count": 43,
   "id": "d2edaa03-8ab6-4d64-b3db-2313a38890e8",
   "metadata": {},
   "outputs": [
    {
     "data": {
      "text/plain": [
       "30"
      ]
     },
     "execution_count": 43,
     "metadata": {},
     "output_type": "execute_result"
    }
   ],
   "source": [
    "a + b"
   ]
  },
  {
   "cell_type": "code",
   "execution_count": 44,
   "id": "cfeda647-26df-432d-8a80-831398a63a53",
   "metadata": {},
   "outputs": [
    {
     "data": {
      "text/plain": [
       "int"
      ]
     },
     "execution_count": 44,
     "metadata": {},
     "output_type": "execute_result"
    }
   ],
   "source": [
    "type(a)"
   ]
  },
  {
   "cell_type": "code",
   "execution_count": 45,
   "id": "47198d2d-18d9-4c39-a155-3ab97e826914",
   "metadata": {},
   "outputs": [
    {
     "data": {
      "text/plain": [
       "int"
      ]
     },
     "execution_count": 45,
     "metadata": {},
     "output_type": "execute_result"
    }
   ],
   "source": [
    "type(b)"
   ]
  },
  {
   "cell_type": "code",
   "execution_count": 46,
   "id": "b265ba45-ada1-4904-841b-ec77ef5fb34c",
   "metadata": {},
   "outputs": [],
   "source": [
    "c = 34.67"
   ]
  },
  {
   "cell_type": "code",
   "execution_count": 47,
   "id": "7219a3c8-af20-46dc-a7d0-14fa8fdfc976",
   "metadata": {},
   "outputs": [
    {
     "data": {
      "text/plain": [
       "34.67"
      ]
     },
     "execution_count": 47,
     "metadata": {},
     "output_type": "execute_result"
    }
   ],
   "source": [
    "c"
   ]
  },
  {
   "cell_type": "code",
   "execution_count": 48,
   "id": "40f067df-7a65-4f3b-a4ee-9eefd75f4ced",
   "metadata": {},
   "outputs": [
    {
     "data": {
      "text/plain": [
       "float"
      ]
     },
     "execution_count": 48,
     "metadata": {},
     "output_type": "execute_result"
    }
   ],
   "source": [
    "type(c)"
   ]
  },
  {
   "cell_type": "code",
   "execution_count": 49,
   "id": "7677c5cb-d03d-499c-80ec-58c919c3d427",
   "metadata": {},
   "outputs": [],
   "source": [
    "d = \"rishabh\""
   ]
  },
  {
   "cell_type": "code",
   "execution_count": 50,
   "id": "9fc4ef98-c874-40a6-9fda-3ed26870cc7f",
   "metadata": {},
   "outputs": [
    {
     "data": {
      "text/plain": [
       "'rishabh'"
      ]
     },
     "execution_count": 50,
     "metadata": {},
     "output_type": "execute_result"
    }
   ],
   "source": [
    "d"
   ]
  },
  {
   "cell_type": "code",
   "execution_count": 51,
   "id": "77dda234-97ac-4df9-ab18-c2f1108bb4d1",
   "metadata": {},
   "outputs": [
    {
     "data": {
      "text/plain": [
       "str"
      ]
     },
     "execution_count": 51,
     "metadata": {},
     "output_type": "execute_result"
    }
   ],
   "source": [
    "type(d)"
   ]
  },
  {
   "cell_type": "code",
   "execution_count": 52,
   "id": "2a4648d3-7748-42ce-b92e-63eb297b0e42",
   "metadata": {},
   "outputs": [],
   "source": [
    "e = \" This is myself risahbh kumar\""
   ]
  },
  {
   "cell_type": "code",
   "execution_count": 53,
   "id": "22391017-f1a3-459b-b8ce-11211649588b",
   "metadata": {},
   "outputs": [
    {
     "data": {
      "text/plain": [
       "str"
      ]
     },
     "execution_count": 53,
     "metadata": {},
     "output_type": "execute_result"
    }
   ],
   "source": [
    "type(e)"
   ]
  },
  {
   "cell_type": "code",
   "execution_count": 54,
   "id": "d05b7016-27c9-4893-93e7-550658bd5ca2",
   "metadata": {},
   "outputs": [],
   "source": [
    "n = True"
   ]
  },
  {
   "cell_type": "code",
   "execution_count": 55,
   "id": "0ed0608c-2d8f-4436-b428-b365622d22cd",
   "metadata": {},
   "outputs": [
    {
     "data": {
      "text/plain": [
       "bool"
      ]
     },
     "execution_count": 55,
     "metadata": {},
     "output_type": "execute_result"
    }
   ],
   "source": [
    "type(n)"
   ]
  },
  {
   "cell_type": "code",
   "execution_count": 56,
   "id": "a72251ba-04a9-4c98-a432-a3c0ebbcaea4",
   "metadata": {},
   "outputs": [],
   "source": [
    "m = False"
   ]
  },
  {
   "cell_type": "code",
   "execution_count": 57,
   "id": "254ed219-83ca-437c-a04b-8f2fd45b10fb",
   "metadata": {},
   "outputs": [
    {
     "data": {
      "text/plain": [
       "bool"
      ]
     },
     "execution_count": 57,
     "metadata": {},
     "output_type": "execute_result"
    }
   ],
   "source": [
    "type(m)"
   ]
  },
  {
   "cell_type": "code",
   "execution_count": 58,
   "id": "03d56cd1-f953-4aeb-b641-c04cf8f25b7f",
   "metadata": {},
   "outputs": [
    {
     "data": {
      "text/plain": [
       "1"
      ]
     },
     "execution_count": 58,
     "metadata": {},
     "output_type": "execute_result"
    }
   ],
   "source": [
    "n + m"
   ]
  },
  {
   "cell_type": "code",
   "execution_count": 59,
   "id": "34c79435-1882-4798-9155-431a271940a0",
   "metadata": {},
   "outputs": [
    {
     "data": {
      "text/plain": [
       "1"
      ]
     },
     "execution_count": 59,
     "metadata": {},
     "output_type": "execute_result"
    }
   ],
   "source": [
    "True * True"
   ]
  },
  {
   "cell_type": "code",
   "execution_count": 60,
   "id": "879dc9d4-def3-482a-94e2-cef5a0559e43",
   "metadata": {},
   "outputs": [
    {
     "data": {
      "text/plain": [
       "0"
      ]
     },
     "execution_count": 60,
     "metadata": {},
     "output_type": "execute_result"
    }
   ],
   "source": [
    "True * False"
   ]
  },
  {
   "cell_type": "code",
   "execution_count": 61,
   "id": "681cc626-84d7-4fae-b8e6-fa1b5f0b68c9",
   "metadata": {},
   "outputs": [
    {
     "ename": "ZeroDivisionError",
     "evalue": "division by zero",
     "output_type": "error",
     "traceback": [
      "\u001b[0;31m---------------------------------------------------------------------------\u001b[0m",
      "\u001b[0;31mZeroDivisionError\u001b[0m                         Traceback (most recent call last)",
      "Cell \u001b[0;32mIn[61], line 1\u001b[0m\n\u001b[0;32m----> 1\u001b[0m \u001b[38;5;28;43;01mTrue\u001b[39;49;00m\u001b[43m \u001b[49m\u001b[38;5;241;43m/\u001b[39;49m\u001b[43m \u001b[49m\u001b[38;5;28;43;01mFalse\u001b[39;49;00m\n",
      "\u001b[0;31mZeroDivisionError\u001b[0m: division by zero"
     ]
    }
   ],
   "source": [
    "True / False"
   ]
  },
  {
   "cell_type": "code",
   "execution_count": null,
   "id": "5c625380-96ea-4f7f-93d4-9ae47533d83c",
   "metadata": {},
   "outputs": [],
   "source": [
    "v = 5 +8j"
   ]
  },
  {
   "cell_type": "code",
   "execution_count": null,
   "id": "c3a02681-7760-4f5a-a71f-ec71c2d42bc9",
   "metadata": {},
   "outputs": [],
   "source": [
    "type(v)"
   ]
  },
  {
   "cell_type": "code",
   "execution_count": null,
   "id": "754bb23e-d4d2-4d7e-9a46-fb0cfc4b950b",
   "metadata": {},
   "outputs": [],
   "source": [
    "v.real"
   ]
  },
  {
   "cell_type": "code",
   "execution_count": null,
   "id": "10fcfe7b-d526-4ec3-ad8f-eb953483e329",
   "metadata": {},
   "outputs": [],
   "source": [
    "v.imag"
   ]
  },
  {
   "cell_type": "code",
   "execution_count": null,
   "id": "3cb95102-317a-4d65-995f-613888ae3e76",
   "metadata": {},
   "outputs": [],
   "source": [
    "print(\"Hello World\")"
   ]
  },
  {
   "cell_type": "code",
   "execution_count": null,
   "id": "c1604e15-5fca-4fdd-91b9-480cc8979e9f",
   "metadata": {},
   "outputs": [],
   "source": [
    "print(a+b)"
   ]
  },
  {
   "cell_type": "code",
   "execution_count": null,
   "id": "6428398a-9eed-46e8-9c4a-5184249d5f78",
   "metadata": {},
   "outputs": [],
   "source": [
    "print(a)\n"
   ]
  },
  {
   "cell_type": "code",
   "execution_count": null,
   "id": "12b024d3-e80f-4377-8e48-65c685e5ccfb",
   "metadata": {},
   "outputs": [],
   "source": [
    "print (b)\n",
    "print(c)"
   ]
  },
  {
   "cell_type": "code",
   "execution_count": null,
   "id": "d0b23ef9-b0b8-4595-9958-b5e66297bed1",
   "metadata": {},
   "outputs": [],
   "source": [
    "s = 'rishabh'"
   ]
  },
  {
   "cell_type": "code",
   "execution_count": null,
   "id": "52e710bf-4918-43bf-ad76-4638367efd53",
   "metadata": {},
   "outputs": [],
   "source": [
    "type(s)"
   ]
  },
  {
   "cell_type": "code",
   "execution_count": null,
   "id": "45b31739-f3d5-4645-a2f1-be89fc7b8fbd",
   "metadata": {},
   "outputs": [],
   "source": [
    "s[1]"
   ]
  },
  {
   "cell_type": "code",
   "execution_count": null,
   "id": "dd87c3fe-6062-4cca-9f4b-a3c1d7f239ce",
   "metadata": {},
   "outputs": [],
   "source": [
    "s[0]"
   ]
  },
  {
   "cell_type": "code",
   "execution_count": null,
   "id": "a3308d6d-2fdc-46bb-81c1-0b1979518e5a",
   "metadata": {},
   "outputs": [],
   "source": [
    "s[6]"
   ]
  },
  {
   "cell_type": "markdown",
   "id": "7353ec63-b82b-41e4-8daa-d21a40634d51",
   "metadata": {},
   "source": [
    "String:- String is a combination of character."
   ]
  },
  {
   "cell_type": "code",
   "execution_count": null,
   "id": "d1ebf2e1-bb58-4b55-9c2a-376fdd7a074f",
   "metadata": {},
   "outputs": [],
   "source": [
    "s[-1]"
   ]
  },
  {
   "cell_type": "code",
   "execution_count": null,
   "id": "f04256fc-510d-4a34-bdc7-e2f57e712581",
   "metadata": {},
   "outputs": [],
   "source": [
    "s[0:3]"
   ]
  },
  {
   "cell_type": "markdown",
   "id": "ea5a7388-2c8e-427c-9305-9a9aa980f00d",
   "metadata": {},
   "source": [
    "The above process is known as Slicing.The data in this which we get is upperbound -1."
   ]
  },
  {
   "cell_type": "code",
   "execution_count": null,
   "id": "5d37f83d-9852-4742-be74-c5701cb909a5",
   "metadata": {},
   "outputs": [],
   "source": [
    "s = \"Rishabh Kumar\""
   ]
  },
  {
   "cell_type": "code",
   "execution_count": null,
   "id": "066e7b52-e9b2-4775-8793-827f78356188",
   "metadata": {},
   "outputs": [],
   "source": [
    "s"
   ]
  },
  {
   "cell_type": "code",
   "execution_count": null,
   "id": "f415c78f-eb40-4ed3-8143-112b0109548e",
   "metadata": {},
   "outputs": [],
   "source": [
    "s[::-1]"
   ]
  },
  {
   "cell_type": "code",
   "execution_count": null,
   "id": "91f71ba6-eeae-4668-a868-8bd553cf4f8a",
   "metadata": {},
   "outputs": [],
   "source": [
    "s[0:7:2]"
   ]
  },
  {
   "cell_type": "markdown",
   "id": "1a1bfe19-bbd1-433b-a381-b80b1ae229b6",
   "metadata": {},
   "source": [
    "In the above the third parameter which is '2' represents as jumping up of 2 index which results in the output 'Rsah'."
   ]
  },
  {
   "cell_type": "code",
   "execution_count": 3,
   "id": "5c6db9ae-4649-4a6c-b139-65b032e78561",
   "metadata": {},
   "outputs": [],
   "source": [
    "s = 'pwskills'"
   ]
  },
  {
   "cell_type": "code",
   "execution_count": null,
   "id": "d7609972-5235-40de-9c83-890c263acd30",
   "metadata": {},
   "outputs": [],
   "source": [
    "s[2:7:-1]"
   ]
  },
  {
   "cell_type": "markdown",
   "id": "b89d4e98-dc27-4dbf-8427-c7c2b11505c6",
   "metadata": {},
   "source": [
    "Now, Let's know how its showing blank space as we can see, We have assigned 2 as the staring point and 7 as the last point and the jumping of index is -1. So due to jumping towards negative part creates a conficlt i.e; its gives \" '' \" as output for s[2:7:-1] ."
   ]
  },
  {
   "cell_type": "code",
   "execution_count": null,
   "id": "a68b0d7b-99ef-46f2-b24f-4e89787819b0",
   "metadata": {},
   "outputs": [],
   "source": [
    "s[8:0]"
   ]
  },
  {
   "cell_type": "code",
   "execution_count": null,
   "id": "dbd7bec6-d4d1-4a24-aeae-664939c83c0d",
   "metadata": {},
   "outputs": [],
   "source": [
    "s[-2:-8:-1]"
   ]
  },
  {
   "cell_type": "code",
   "execution_count": null,
   "id": "e77be1ec-af32-4b51-b90e-d97ac7c68917",
   "metadata": {},
   "outputs": [],
   "source": [
    "s[-2::-1]"
   ]
  },
  {
   "cell_type": "code",
   "execution_count": null,
   "id": "ad8708f6-da4d-4e5e-8eb3-e2e85fdc14dc",
   "metadata": {},
   "outputs": [],
   "source": [
    "s[::-1]"
   ]
  },
  {
   "cell_type": "code",
   "execution_count": null,
   "id": "a333fd29-54c6-4263-a271-4198c07601c1",
   "metadata": {},
   "outputs": [],
   "source": [
    "c = 200"
   ]
  },
  {
   "cell_type": "markdown",
   "id": "573890dc-eef1-43a2-83af-b24abb5758ea",
   "metadata": {},
   "source": [
    "We can't do slicing in the integer values like we do in string as string stores it's data characters in seperate index. But the integer value is stored in single index.\n",
    "\n",
    "For example, c = 200 then the 200 wil be stored in 0th index value.\n",
    "\n",
    "For example for string, s = rishabh, then r - 0th, i - 1th, s -2nd....and so on.\n",
    "\n",
    "We can do the slicing but we have to convert it from integer to string to do the slicing. But due to which interger will lost its value after getting converted into string"
   ]
  },
  {
   "cell_type": "code",
   "execution_count": 1,
   "id": "9f1c8bc1-da6a-42fd-9431-0d94136e9007",
   "metadata": {},
   "outputs": [],
   "source": [
    "s1 = \"Myself Rishabh Kumar and I am learning python\""
   ]
  },
  {
   "cell_type": "markdown",
   "id": "efc3a73e-dd13-4747-8abc-d93b69007c0a",
   "metadata": {},
   "source": [
    "In string there are many in-built function the python below are some mentioned:"
   ]
  },
  {
   "cell_type": "code",
   "execution_count": null,
   "id": "c42a29ac-2699-4f8b-8f45-5a0645d197d1",
   "metadata": {},
   "outputs": [],
   "source": [
    "len(s1)"
   ]
  },
  {
   "cell_type": "markdown",
   "id": "b7fec02e-9761-4a64-b07c-cf29dc446159",
   "metadata": {},
   "source": [
    "The len() functions helps to calculate the length of string."
   ]
  },
  {
   "cell_type": "code",
   "execution_count": null,
   "id": "efd523ba-4c5d-45c0-9865-dad5b7f1ee01",
   "metadata": {},
   "outputs": [],
   "source": [
    "s1.find('s')"
   ]
  },
  {
   "cell_type": "markdown",
   "id": "46ba941c-2b29-4a48-ae53-30d08511037b",
   "metadata": {},
   "source": [
    "The find(' ') functions helps to find the element which needed to be search throughout the string.\n",
    "For example, s1.find('s')- it will search where 's' is present in the forward direction and we the first 's' had been found then it will print its index value like '2' had been printed.\n",
    "\n",
    "Not only character we can find any sub-string of the string.\n",
    "for example mentioned below:\n"
   ]
  },
  {
   "cell_type": "code",
   "execution_count": null,
   "id": "09a37de4-aab4-4143-b4db-b5a8a385e73c",
   "metadata": {},
   "outputs": [],
   "source": [
    "s1.find(\"is\")"
   ]
  },
  {
   "cell_type": "code",
   "execution_count": null,
   "id": "9095d5e7-85d1-40ac-bac4-c5eff7dd1fed",
   "metadata": {},
   "outputs": [],
   "source": [
    "s1.find(\"Rishabh\")"
   ]
  },
  {
   "cell_type": "markdown",
   "id": "137cd4c6-37e1-460f-a452-c16ef5d7f95d",
   "metadata": {},
   "source": [
    "Count Function: The function which helps to count the characters in the whole string, irrespective of the case sensetive.\n",
    "For example mentioned below:"
   ]
  },
  {
   "cell_type": "code",
   "execution_count": null,
   "id": "f89a5ec6-0ca3-4263-ac2b-dc11cb8f7d53",
   "metadata": {},
   "outputs": [],
   "source": [
    "s1.count('s')"
   ]
  },
  {
   "cell_type": "code",
   "execution_count": null,
   "id": "f4c21040-4214-4e06-9c21-a837f84b60e5",
   "metadata": {},
   "outputs": [],
   "source": [
    "s1"
   ]
  },
  {
   "cell_type": "code",
   "execution_count": null,
   "id": "0753e533-3b26-4da1-a426-c312f9067210",
   "metadata": {},
   "outputs": [],
   "source": [
    "s1.count('r')"
   ]
  },
  {
   "cell_type": "code",
   "execution_count": null,
   "id": "8e74e7eb-3a4c-4439-8e31-6ebc458601fa",
   "metadata": {},
   "outputs": [],
   "source": [
    "s1.count('z')"
   ]
  },
  {
   "cell_type": "markdown",
   "id": "e6547721-8e85-4ee4-bc08-5f103d624823",
   "metadata": {},
   "source": [
    "If the charcater doesn't exist in the string then the count will be given by the compiler will be '0'.As shown above "
   ]
  },
  {
   "cell_type": "code",
   "execution_count": null,
   "id": "62a2c7e4-c5d0-4b2a-af3c-de31d7240e3e",
   "metadata": {},
   "outputs": [],
   "source": [
    "s1"
   ]
  },
  {
   "cell_type": "code",
   "execution_count": null,
   "id": "6e626076-afc6-4cd5-8106-4ca361625e0a",
   "metadata": {},
   "outputs": [],
   "source": [
    "s1.upper()"
   ]
  },
  {
   "cell_type": "markdown",
   "id": "8c7c011c-6bd3-426e-944f-2915a2abce08",
   "metadata": {},
   "source": [
    "Upper Function: This function is used to convert the whole string into upper case. As shown in the above output."
   ]
  },
  {
   "cell_type": "code",
   "execution_count": null,
   "id": "cf24ced4-ed45-423d-a466-7905dae0273b",
   "metadata": {},
   "outputs": [],
   "source": [
    "s1.lower()"
   ]
  },
  {
   "cell_type": "markdown",
   "id": "693960d3-0a8c-4330-871a-1b5eeb265a00",
   "metadata": {},
   "source": [
    "Lower Function: This function is used to convert the whole string into lower case. As shown in the above output."
   ]
  },
  {
   "cell_type": "code",
   "execution_count": null,
   "id": "a6874e8b-5705-4f5a-ba0e-1e401fe5d88e",
   "metadata": {},
   "outputs": [],
   "source": [
    "s1.title()"
   ]
  },
  {
   "cell_type": "markdown",
   "id": "a8abd1fe-6027-47ce-af68-16006dd9b7ae",
   "metadata": {},
   "source": [
    "Title function: In this function it will convert the whole string into the Title. As show above."
   ]
  },
  {
   "cell_type": "code",
   "execution_count": null,
   "id": "3a1dcffd-c84e-456a-8aa9-274a727195da",
   "metadata": {},
   "outputs": [],
   "source": [
    "s1.capitalize()"
   ]
  },
  {
   "cell_type": "markdown",
   "id": "9c8f143c-41f2-42f7-bca5-b8db2deadef3",
   "metadata": {},
   "source": [
    "Capitalize function: In this function it will only capatlize the starting character in thw whole stringas show above."
   ]
  },
  {
   "cell_type": "code",
   "execution_count": 4,
   "id": "2bf38079-121f-4047-a215-ff5c55fca623",
   "metadata": {},
   "outputs": [
    {
     "data": {
      "text/plain": [
       "'pwskills'"
      ]
     },
     "execution_count": 4,
     "metadata": {},
     "output_type": "execute_result"
    }
   ],
   "source": [
    "s"
   ]
  },
  {
   "cell_type": "code",
   "execution_count": 5,
   "id": "59dd6eae-e47b-4a75-8518-791719e7a948",
   "metadata": {},
   "outputs": [
    {
     "data": {
      "text/plain": [
       "'Myself Rishabh Kumar and I am learning python'"
      ]
     },
     "execution_count": 5,
     "metadata": {},
     "output_type": "execute_result"
    }
   ],
   "source": [
    "s1"
   ]
  },
  {
   "cell_type": "code",
   "execution_count": 7,
   "id": "1ef56cbe-507d-457e-a533-9b1b924fa139",
   "metadata": {},
   "outputs": [
    {
     "ename": "TypeError",
     "evalue": "can only concatenate str (not \"int\") to str",
     "output_type": "error",
     "traceback": [
      "\u001b[0;31m---------------------------------------------------------------------------\u001b[0m",
      "\u001b[0;31mTypeError\u001b[0m                                 Traceback (most recent call last)",
      "Cell \u001b[0;32mIn[7], line 1\u001b[0m\n\u001b[0;32m----> 1\u001b[0m \u001b[43ms\u001b[49m\u001b[43m \u001b[49m\u001b[38;5;241;43m+\u001b[39;49m\u001b[43m \u001b[49m\u001b[38;5;241;43m1\u001b[39;49m\n",
      "\u001b[0;31mTypeError\u001b[0m: can only concatenate str (not \"int\") to str"
     ]
    }
   ],
   "source": [
    "s + 1"
   ]
  },
  {
   "cell_type": "markdown",
   "id": "6bdb067b-c674-4e2c-ac29-7b4f5d9820c6",
   "metadata": {},
   "source": [
    "Concatenate operation can only apply on same data type. It can't concatenate the string and integer.As shown above."
   ]
  },
  {
   "cell_type": "code",
   "execution_count": 8,
   "id": "d01bdcd1-0b47-467c-ac92-91b903c5df98",
   "metadata": {},
   "outputs": [
    {
     "data": {
      "text/plain": [
       "'pwskills1'"
      ]
     },
     "execution_count": 8,
     "metadata": {},
     "output_type": "execute_result"
    }
   ],
   "source": [
    "s + '1'"
   ]
  },
  {
   "cell_type": "code",
   "execution_count": 9,
   "id": "d3dce92a-4cc2-4172-afff-464294571fef",
   "metadata": {},
   "outputs": [
    {
     "data": {
      "text/plain": [
       "'pwskills1'"
      ]
     },
     "execution_count": 9,
     "metadata": {},
     "output_type": "execute_result"
    }
   ],
   "source": [
    "s + str(1)"
   ]
  },
  {
   "cell_type": "markdown",
   "id": "4fc3154b-a1cb-4fba-9ec1-f10790ba836b",
   "metadata": {},
   "source": [
    "The above are the two examples in which int data type had been converted to str to concatenate with str data type."
   ]
  },
  {
   "cell_type": "code",
   "execution_count": 11,
   "id": "c28f0e8e-175b-46a7-9828-bedfa5fb6dde",
   "metadata": {},
   "outputs": [
    {
     "data": {
      "text/plain": [
       "'pwskillspwskillspwskills'"
      ]
     },
     "execution_count": 11,
     "metadata": {},
     "output_type": "execute_result"
    }
   ],
   "source": [
    "s * 3"
   ]
  },
  {
   "cell_type": "code",
   "execution_count": 12,
   "id": "6c2fcdc7-bcd1-4779-af3f-2ff0f4bf50fd",
   "metadata": {},
   "outputs": [
    {
     "ename": "TypeError",
     "evalue": "unsupported operand type(s) for /: 'str' and 'int'",
     "output_type": "error",
     "traceback": [
      "\u001b[0;31m---------------------------------------------------------------------------\u001b[0m",
      "\u001b[0;31mTypeError\u001b[0m                                 Traceback (most recent call last)",
      "Cell \u001b[0;32mIn[12], line 1\u001b[0m\n\u001b[0;32m----> 1\u001b[0m \u001b[43ms\u001b[49m\u001b[43m \u001b[49m\u001b[38;5;241;43m/\u001b[39;49m\u001b[43m \u001b[49m\u001b[38;5;241;43m4\u001b[39;49m\n",
      "\u001b[0;31mTypeError\u001b[0m: unsupported operand type(s) for /: 'str' and 'int'"
     ]
    }
   ],
   "source": [
    "s / 4"
   ]
  },
  {
   "cell_type": "code",
   "execution_count": 13,
   "id": "57ed86d6-2074-4c0e-9f7a-6a10f5220a38",
   "metadata": {},
   "outputs": [
    {
     "ename": "SyntaxError",
     "evalue": "unterminated string literal (detected at line 1) (1811489030.py, line 1)",
     "output_type": "error",
     "traceback": [
      "\u001b[0;36m  Cell \u001b[0;32mIn[13], line 1\u001b[0;36m\u001b[0m\n\u001b[0;31m    'don't do copy and paste in my class'\u001b[0m\n\u001b[0m                                        ^\u001b[0m\n\u001b[0;31mSyntaxError\u001b[0m\u001b[0;31m:\u001b[0m unterminated string literal (detected at line 1)\n"
     ]
    }
   ],
   "source": [
    "'don't do copy and paste in my class'"
   ]
  },
  {
   "cell_type": "code",
   "execution_count": 14,
   "id": "ec19442a-7188-438d-a953-8772c0fd7131",
   "metadata": {},
   "outputs": [
    {
     "data": {
      "text/plain": [
       "\" don't do copy and paste in my class \""
      ]
     },
     "execution_count": 14,
     "metadata": {},
     "output_type": "execute_result"
    }
   ],
   "source": [
    "\" don't do copy and paste in my class \""
   ]
  },
  {
   "cell_type": "code",
   "execution_count": 15,
   "id": "b0473727-242a-4058-b209-6112b2003559",
   "metadata": {},
   "outputs": [
    {
     "data": {
      "text/plain": [
       "\"this is myself risahbh kumar . i have been in my 20's and working on my self to gear my \\ncarrer in the field of enginnering with the specilization \\nin data science. \\nAs the area of data science and AI had been very vast \\nand demanded in the 2024 and the future.\""
      ]
     },
     "execution_count": 15,
     "metadata": {},
     "output_type": "execute_result"
    }
   ],
   "source": [
    "'''this is myself risahbh kumar . i have been in my 20's and working on my self to gear my \n",
    "carrer in the field of enginnering with the specilization \n",
    "in data science. \n",
    "As the area of data science and AI had been very vast \n",
    "and demanded in the 2024 and the future.'''"
   ]
  },
  {
   "cell_type": "code",
   "execution_count": null,
   "id": "6dea0229-fb61-466c-a860-02a8da6194f3",
   "metadata": {},
   "outputs": [],
   "source": []
  }
 ],
 "metadata": {
  "kernelspec": {
   "display_name": "Python 3 (ipykernel)",
   "language": "python",
   "name": "python3"
  },
  "language_info": {
   "codemirror_mode": {
    "name": "ipython",
    "version": 3
   },
   "file_extension": ".py",
   "mimetype": "text/x-python",
   "name": "python",
   "nbconvert_exporter": "python",
   "pygments_lexer": "ipython3",
   "version": "3.10.8"
  }
 },
 "nbformat": 4,
 "nbformat_minor": 5
}
