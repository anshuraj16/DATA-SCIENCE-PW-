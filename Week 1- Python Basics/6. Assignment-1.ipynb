{
 "cells": [
  {
   "cell_type": "markdown",
   "id": "2eef7a16-4f48-4f1c-8f1e-18d488f17e0e",
   "metadata": {},
   "source": [
    "ASSIGNMENT-1"
   ]
  },
  {
   "cell_type": "raw",
   "id": "c738147e-b8ea-4211-89c0-c77d3c3a3d84",
   "metadata": {},
   "source": [
    "Q1. Create one variable containing following type of data:\n",
    "(i) string\n",
    "(ii) list\n",
    "(iii) float\n",
    "(iv) tuple"
   ]
  },
  {
   "cell_type": "code",
   "execution_count": 1,
   "id": "7fcfa036-68d2-4adf-8fdb-9650f4228f1b",
   "metadata": {},
   "outputs": [],
   "source": [
    "# i) String\n",
    "\n",
    "a = 'Hello, Myself Rishabh Kumar'\n"
   ]
  },
  {
   "cell_type": "code",
   "execution_count": 2,
   "id": "52b6bdc8-a442-4a12-933e-4c209a252809",
   "metadata": {},
   "outputs": [
    {
     "data": {
      "text/plain": [
       "'Hello, Myself Rishabh Kumar'"
      ]
     },
     "execution_count": 2,
     "metadata": {},
     "output_type": "execute_result"
    }
   ],
   "source": [
    "a\n"
   ]
  },
  {
   "cell_type": "code",
   "execution_count": 3,
   "id": "e0595dc4-78b1-41d9-ae74-eee9ccef280f",
   "metadata": {},
   "outputs": [
    {
     "data": {
      "text/plain": [
       "str"
      ]
     },
     "execution_count": 3,
     "metadata": {},
     "output_type": "execute_result"
    }
   ],
   "source": [
    "type(a)"
   ]
  },
  {
   "cell_type": "code",
   "execution_count": 4,
   "id": "b0be9541-1203-4be5-8304-d0260894ff80",
   "metadata": {},
   "outputs": [],
   "source": [
    "# ii) List\n",
    "\n",
    "lis = [2,34,'Rishabh',23.5,True]\n"
   ]
  },
  {
   "cell_type": "code",
   "execution_count": 6,
   "id": "7e25c8b2-7755-4528-8876-d6bf1439aa79",
   "metadata": {},
   "outputs": [
    {
     "data": {
      "text/plain": [
       "[2, 34, 'Rishabh', 23.5, True]"
      ]
     },
     "execution_count": 6,
     "metadata": {},
     "output_type": "execute_result"
    }
   ],
   "source": [
    "lis"
   ]
  },
  {
   "cell_type": "code",
   "execution_count": 7,
   "id": "dad5fb0b-36ab-42f3-9552-4b573fb1a200",
   "metadata": {},
   "outputs": [],
   "source": [
    "# iii) Float\n",
    "\n",
    "f = 43.6"
   ]
  },
  {
   "cell_type": "code",
   "execution_count": 8,
   "id": "4a579fc3-af8d-4290-8f10-c6be8406468d",
   "metadata": {},
   "outputs": [
    {
     "data": {
      "text/plain": [
       "43.6"
      ]
     },
     "execution_count": 8,
     "metadata": {},
     "output_type": "execute_result"
    }
   ],
   "source": [
    "f"
   ]
  },
  {
   "cell_type": "code",
   "execution_count": 9,
   "id": "e846ebb5-02b9-48f9-8e00-f02853e6d194",
   "metadata": {},
   "outputs": [
    {
     "data": {
      "text/plain": [
       "float"
      ]
     },
     "execution_count": 9,
     "metadata": {},
     "output_type": "execute_result"
    }
   ],
   "source": [
    "type(f)"
   ]
  },
  {
   "cell_type": "code",
   "execution_count": 10,
   "id": "57bcf8ba-da82-4253-acca-e011fead5bf8",
   "metadata": {},
   "outputs": [],
   "source": [
    "# iv) Tuple\n",
    " \n",
    "t = (1,2,3,4,5)"
   ]
  },
  {
   "cell_type": "code",
   "execution_count": 11,
   "id": "3ba56c97-0ef2-4a20-a47c-e6eaac967380",
   "metadata": {},
   "outputs": [
    {
     "data": {
      "text/plain": [
       "(1, 2, 3, 4, 5)"
      ]
     },
     "execution_count": 11,
     "metadata": {},
     "output_type": "execute_result"
    }
   ],
   "source": [
    "t"
   ]
  },
  {
   "cell_type": "code",
   "execution_count": 12,
   "id": "a68e4b78-d6dc-43b3-8fd0-628d4d112f90",
   "metadata": {},
   "outputs": [
    {
     "data": {
      "text/plain": [
       "tuple"
      ]
     },
     "execution_count": 12,
     "metadata": {},
     "output_type": "execute_result"
    }
   ],
   "source": [
    "type(t)"
   ]
  },
  {
   "cell_type": "raw",
   "id": "78d6484e-5d27-4a0c-8bdb-205191651a9c",
   "metadata": {},
   "source": [
    "Q2. Given are some following variables containing data:\n",
    "(i) var1 = ‘ ‘\n",
    "(ii) var2 = ‘[ DS , ML , Python]’\n",
    "(iii) var3 = [ ‘DS’ , ’ML’ , ‘Python’ ]\n",
    "(iv) var4 = 1\n",
    "\n",
    "What will be the data type of the above given variable."
   ]
  },
  {
   "cell_type": "code",
   "execution_count": 14,
   "id": "1dad1c3c-1c28-4552-8ac6-3a7802be962c",
   "metadata": {},
   "outputs": [],
   "source": [
    "# Ans: i) var1 = ' '\n",
    "\n",
    "var1 = ' '"
   ]
  },
  {
   "cell_type": "code",
   "execution_count": 15,
   "id": "ccf9c21e-280d-44c2-99b7-949220bc3f7b",
   "metadata": {},
   "outputs": [
    {
     "data": {
      "text/plain": [
       "str"
      ]
     },
     "execution_count": 15,
     "metadata": {},
     "output_type": "execute_result"
    }
   ],
   "source": [
    "type(var1)"
   ]
  },
  {
   "cell_type": "code",
   "execution_count": 16,
   "id": "849c9514-c4d7-42c0-b0f4-96fea21682a6",
   "metadata": {},
   "outputs": [],
   "source": [
    "# ii) \n",
    "\n",
    "var2 = '[ DS , ML ,Python]'"
   ]
  },
  {
   "cell_type": "code",
   "execution_count": 17,
   "id": "a4223d0a-4645-49fb-b809-48928616f54f",
   "metadata": {},
   "outputs": [
    {
     "data": {
      "text/plain": [
       "str"
      ]
     },
     "execution_count": 17,
     "metadata": {},
     "output_type": "execute_result"
    }
   ],
   "source": [
    "type(var2)"
   ]
  },
  {
   "cell_type": "code",
   "execution_count": 22,
   "id": "d1b97fce-64f2-4058-9d88-46e47f304cd9",
   "metadata": {},
   "outputs": [],
   "source": [
    "# iii) \n",
    "\n",
    "var3 = ['DS' , 'ML' , 'Python']"
   ]
  },
  {
   "cell_type": "code",
   "execution_count": 23,
   "id": "4ed3da28-2bc3-430d-ae15-40f3c96718bd",
   "metadata": {},
   "outputs": [
    {
     "data": {
      "text/plain": [
       "list"
      ]
     },
     "execution_count": 23,
     "metadata": {},
     "output_type": "execute_result"
    }
   ],
   "source": [
    "type(var3)"
   ]
  },
  {
   "cell_type": "code",
   "execution_count": 26,
   "id": "785749d2-c536-4b6d-a1db-252d9d7f80ad",
   "metadata": {},
   "outputs": [],
   "source": [
    "var4 = 1."
   ]
  },
  {
   "cell_type": "code",
   "execution_count": 27,
   "id": "6ff89390-cad1-4994-a356-73c8bf4b5b7e",
   "metadata": {},
   "outputs": [
    {
     "data": {
      "text/plain": [
       "float"
      ]
     },
     "execution_count": 27,
     "metadata": {},
     "output_type": "execute_result"
    }
   ],
   "source": [
    "type(var4)"
   ]
  },
  {
   "cell_type": "raw",
   "id": "d3a297b7-1607-45f0-98a8-2a6c96940c03",
   "metadata": {},
   "source": [
    "Q3. Explain the use of the following operators using an example:\n",
    "(i) /\n",
    "(ii) %\n",
    "(iii) //\n",
    "(iv) **"
   ]
  },
  {
   "cell_type": "code",
   "execution_count": 29,
   "id": "c39056e0-9d9a-4513-942f-6ff25c49e964",
   "metadata": {},
   "outputs": [
    {
     "data": {
      "text/plain": [
       "0.5"
      ]
     },
     "execution_count": 29,
     "metadata": {},
     "output_type": "execute_result"
    }
   ],
   "source": [
    "# Ans: i) /\n",
    "\n",
    "a = 10\n",
    "b = 20\n",
    "a / b"
   ]
  },
  {
   "cell_type": "code",
   "execution_count": 30,
   "id": "d34ea374-d7d5-428c-ada1-f8d05497e24e",
   "metadata": {},
   "outputs": [
    {
     "data": {
      "text/plain": [
       "3"
      ]
     },
     "execution_count": 30,
     "metadata": {},
     "output_type": "execute_result"
    }
   ],
   "source": [
    "# ii) %\n",
    "\n",
    "a = 23\n",
    "b = 10\n",
    "\n",
    "a % b"
   ]
  },
  {
   "cell_type": "code",
   "execution_count": 34,
   "id": "72562d76-ee04-450a-b35b-b3a4043e789a",
   "metadata": {},
   "outputs": [
    {
     "data": {
      "text/plain": [
       "1"
      ]
     },
     "execution_count": 34,
     "metadata": {},
     "output_type": "execute_result"
    }
   ],
   "source": [
    "# iii) //\n",
    "\n",
    "5 // 4"
   ]
  },
  {
   "cell_type": "code",
   "execution_count": 35,
   "id": "3b13a6ed-6269-4e8c-a09a-cb6a65c5f7be",
   "metadata": {},
   "outputs": [
    {
     "data": {
      "text/plain": [
       "81"
      ]
     },
     "execution_count": 35,
     "metadata": {},
     "output_type": "execute_result"
    }
   ],
   "source": [
    "# iv) **\n",
    "\n",
    "3 ** 4"
   ]
  },
  {
   "cell_type": "raw",
   "id": "815dbdd7-d91a-4748-a2e4-afc31bfa6f81",
   "metadata": {},
   "source": [
    "Q4. Create a list of length 10 of your choice containing multiple types of data. Using for loop print the\n",
    "element and its data type.\n"
   ]
  },
  {
   "cell_type": "code",
   "execution_count": 36,
   "id": "18079fd2-c979-4b87-a4cc-f5ab1782033a",
   "metadata": {},
   "outputs": [
    {
     "name": "stdout",
     "output_type": "stream",
     "text": [
      "<class 'int'>\n",
      "2\n",
      "<class 'int'>\n",
      "3\n",
      "<class 'int'>\n",
      "4\n",
      "<class 'int'>\n",
      "5\n",
      "<class 'str'>\n",
      "rishabh\n",
      "<class 'str'>\n",
      "anshu\n",
      "<class 'bool'>\n",
      "True\n",
      "<class 'float'>\n",
      "45.678\n"
     ]
    }
   ],
   "source": [
    "# Ans: \n",
    "\n",
    "l = [2,3,4,5,\"rishabh\",\"anshu\",True,45.678]\n",
    "\n",
    "for i in l :\n",
    "    print(type(i))\n",
    "    print(i)"
   ]
  },
  {
   "cell_type": "raw",
   "id": "f5d8b156-2e31-46e7-b175-584f549a890b",
   "metadata": {},
   "source": [
    "Q5. Using a while loop, verify if the number A is purely divisible by number B and if so then how many\n",
    "times it can be divisible."
   ]
  },
  {
   "cell_type": "code",
   "execution_count": 41,
   "id": "aafc8ff0-dac8-480c-ae71-94239630ff20",
   "metadata": {},
   "outputs": [
    {
     "name": "stdin",
     "output_type": "stream",
     "text": [
      "Enter no. A:  245\n",
      "Enter no. B:  5\n"
     ]
    },
    {
     "name": "stdout",
     "output_type": "stream",
     "text": [
      "5 can divide 49.0 evenly 1 times.\n"
     ]
    }
   ],
   "source": [
    "# Input numbers A and B\n",
    "A = int(input(\"Enter no. A: \"))\n",
    "B = int(input(\"Enter no. B: \"))\n",
    "\n",
    "# Initialize count\n",
    "count = 0\n",
    "\n",
    "# Check if A is divisible by B\n",
    "while A % B == 0:\n",
    "    A = A / B\n",
    "    count += 1\n",
    "\n",
    "# Output the result\n",
    "if count > 0:\n",
    "    print(f\"{B} can divide {A} evenly {count} times.\")\n",
    "else:\n",
    "    print(f\"{B} cannot divide {A}.\")\n"
   ]
  },
  {
   "cell_type": "raw",
   "id": "327780d3-8582-48b8-b2e2-175034fba843",
   "metadata": {},
   "source": [
    "Q6. Create a list containing 25 int type data. Using for loop and if-else condition print if the element is\n",
    "divisible by 3 or not."
   ]
  },
  {
   "cell_type": "code",
   "execution_count": 42,
   "id": "2ae40d97-9ba2-4d9d-b161-d0dba98a4089",
   "metadata": {},
   "outputs": [
    {
     "name": "stdout",
     "output_type": "stream",
     "text": [
      "1 is not divisible by 3\n",
      "2 is not divisible by 3\n",
      "3 is divisible by 3\n",
      "4 is not divisible by 3\n",
      "5 is not divisible by 3\n",
      "6 is divisible by 3\n",
      "7 is not divisible by 3\n",
      "8 is not divisible by 3\n",
      "9 is divisible by 3\n",
      "10 is not divisible by 3\n",
      "11 is not divisible by 3\n",
      "12 is divisible by 3\n",
      "13 is not divisible by 3\n",
      "14 is not divisible by 3\n",
      "15 is divisible by 3\n",
      "16 is not divisible by 3\n",
      "17 is not divisible by 3\n",
      "18 is divisible by 3\n",
      "19 is not divisible by 3\n",
      "20 is not divisible by 3\n",
      "21 is divisible by 3\n",
      "22 is not divisible by 3\n",
      "23 is not divisible by 3\n",
      "24 is divisible by 3\n",
      "25 is not divisible by 3\n"
     ]
    }
   ],
   "source": [
    "# Create a list containing 25 integers\n",
    "l = list(range(1, 26))\n",
    "\n",
    "# Iterate through the list and check divisibility by 3\n",
    "for num in l:\n",
    "    if num % 3 == 0:\n",
    "        print(f\"{num} is divisible by 3\")\n",
    "    else:\n",
    "        print(f\"{num} is not divisible by 3\")\n"
   ]
  },
  {
   "cell_type": "raw",
   "id": "a32046ea-4aa8-4980-8800-7816404172a2",
   "metadata": {},
   "source": [
    "Q7. What do you understand about mutable and immutable data types? Give examples for both showing\n",
    "this property."
   ]
  },
  {
   "cell_type": "raw",
   "id": "da89081c-048b-43c8-a559-4cb608a49342",
   "metadata": {},
   "source": [
    "Ans : Mutable Data Types: The object where the data can be modified any time is known as Mutable Data Type.\n",
    "For example - List\n",
    "\n",
    "Immutable Data Types: The object where the data can't be modified is known as Immutable Data Type.\n",
    "For example - String \n"
   ]
  },
  {
   "cell_type": "code",
   "execution_count": 43,
   "id": "eb1cd8f1-9a65-4ec8-a3de-7249b9f638b0",
   "metadata": {},
   "outputs": [],
   "source": [
    "# Mutable Data Type:\n",
    "\n",
    "list = [2, 3,'rishabh',True,45.98,'anshu',450]"
   ]
  },
  {
   "cell_type": "code",
   "execution_count": 48,
   "id": "8a74b157-045d-43c4-8909-9c8ccf449a2f",
   "metadata": {},
   "outputs": [],
   "source": [
    "list[0] = 'cake'"
   ]
  },
  {
   "cell_type": "code",
   "execution_count": 49,
   "id": "a7686dac-dc9e-4e82-9303-eff98e600434",
   "metadata": {},
   "outputs": [
    {
     "data": {
      "text/plain": [
       "['cake', 3, 'rishabh', True, 45.98, 'anshu', 450]"
      ]
     },
     "execution_count": 49,
     "metadata": {},
     "output_type": "execute_result"
    }
   ],
   "source": [
    "list"
   ]
  },
  {
   "cell_type": "code",
   "execution_count": 50,
   "id": "1b95e0d7-35ef-42d0-8987-0c324da2b2f2",
   "metadata": {},
   "outputs": [],
   "source": [
    "# therefre as the index value 0 has been changed from 2 to 'cake'."
   ]
  },
  {
   "cell_type": "code",
   "execution_count": 51,
   "id": "ff8e12fd-5b61-48a7-8172-c19111ac2c62",
   "metadata": {},
   "outputs": [],
   "source": [
    "# Immutable Data Type :\n",
    "\n",
    "a = 'rishabh'"
   ]
  },
  {
   "cell_type": "code",
   "execution_count": 52,
   "id": "22f3d8a0-2b5f-4541-9ce0-7ea487c640cd",
   "metadata": {},
   "outputs": [
    {
     "data": {
      "text/plain": [
       "'rishabh'"
      ]
     },
     "execution_count": 52,
     "metadata": {},
     "output_type": "execute_result"
    }
   ],
   "source": [
    "a"
   ]
  },
  {
   "cell_type": "code",
   "execution_count": 53,
   "id": "afae3e2d-0a0b-49c9-83e4-8d0d996277f1",
   "metadata": {},
   "outputs": [],
   "source": [
    "a = 'anshu'"
   ]
  },
  {
   "cell_type": "code",
   "execution_count": 54,
   "id": "5bafee37-e7d0-48d5-94cb-53177cfc1c72",
   "metadata": {},
   "outputs": [
    {
     "data": {
      "text/plain": [
       "'anshu'"
      ]
     },
     "execution_count": 54,
     "metadata": {},
     "output_type": "execute_result"
    }
   ],
   "source": [
    "a"
   ]
  },
  {
   "cell_type": "code",
   "execution_count": 55,
   "id": "75c38f59-b48f-4656-aa53-fb5e69846959",
   "metadata": {},
   "outputs": [],
   "source": [
    "# Therefore, from the above example we stored two different string vale in same variable 'a' \n",
    "# but the rishabh is erased and anshu had been stored."
   ]
  },
  {
   "cell_type": "code",
   "execution_count": null,
   "id": "8b9b22b5-ad80-4470-b440-48de3bc79a1b",
   "metadata": {},
   "outputs": [],
   "source": []
  }
 ],
 "metadata": {
  "kernelspec": {
   "display_name": "Python 3 (ipykernel)",
   "language": "python",
   "name": "python3"
  },
  "language_info": {
   "codemirror_mode": {
    "name": "ipython",
    "version": 3
   },
   "file_extension": ".py",
   "mimetype": "text/x-python",
   "name": "python",
   "nbconvert_exporter": "python",
   "pygments_lexer": "ipython3",
   "version": "3.10.8"
  }
 },
 "nbformat": 4,
 "nbformat_minor": 5
}
