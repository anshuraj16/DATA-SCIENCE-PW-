{
 "cells": [
  {
   "cell_type": "code",
   "execution_count": 1,
   "id": "78e02c67-aa09-4097-a7fe-191865d32121",
   "metadata": {},
   "outputs": [],
   "source": [
    "a = \"Rishabh\""
   ]
  },
  {
   "cell_type": "code",
   "execution_count": 2,
   "id": "be84a506-88bb-4b9f-9c40-babaac1b1147",
   "metadata": {},
   "outputs": [
    {
     "data": {
      "text/plain": [
       "'Rishabh'"
      ]
     },
     "execution_count": 2,
     "metadata": {},
     "output_type": "execute_result"
    }
   ],
   "source": [
    "a"
   ]
  },
  {
   "cell_type": "code",
   "execution_count": 3,
   "id": "d150c8b8-c42b-4812-abe9-d7140763acec",
   "metadata": {},
   "outputs": [],
   "source": [
    "a1 = \"Anshu\""
   ]
  },
  {
   "cell_type": "code",
   "execution_count": 4,
   "id": "54a13e0c-57ac-4290-bcba-2879ff154e5e",
   "metadata": {},
   "outputs": [
    {
     "data": {
      "text/plain": [
       "'Anshu'"
      ]
     },
     "execution_count": 4,
     "metadata": {},
     "output_type": "execute_result"
    }
   ],
   "source": [
    "a1"
   ]
  },
  {
   "cell_type": "code",
   "execution_count": 6,
   "id": "f1341b6f-af29-48af-bb1a-55794a4c2c36",
   "metadata": {},
   "outputs": [],
   "source": [
    "l = [2,3,4,5,'Anshu','rishabh',45.89,True]"
   ]
  },
  {
   "cell_type": "code",
   "execution_count": 7,
   "id": "6cefdc3a-d215-44e5-b318-bd33904f287e",
   "metadata": {},
   "outputs": [
    {
     "data": {
      "text/plain": [
       "[2, 3, 4, 5, 'Anshu', 'rishabh', 45.89, True]"
      ]
     },
     "execution_count": 7,
     "metadata": {},
     "output_type": "execute_result"
    }
   ],
   "source": [
    "l"
   ]
  },
  {
   "cell_type": "code",
   "execution_count": 8,
   "id": "2ee5d166-f832-4700-ac68-ea7f387344f2",
   "metadata": {},
   "outputs": [],
   "source": [
    "# The above mentioned is a list in which we can store all types of data types like int, char,string, bool, float.\n",
    "# Even we can store list inside a list."
   ]
  },
  {
   "cell_type": "code",
   "execution_count": 10,
   "id": "327c7062-876c-4328-abcc-259ac9ee4b89",
   "metadata": {},
   "outputs": [],
   "source": [
    "# There are two types indexing of values forward(postivie) and Backward(negative) in which forward indexing moves\n",
    "# from left to right where 0 is starting point, backward indexing consist of negative values which moves right to \n",
    "# left side of the list or string, where it start from -1,-2,-3.....so on."
   ]
  },
  {
   "cell_type": "code",
   "execution_count": 11,
   "id": "fdce8f53-0d7e-4394-9945-447864581732",
   "metadata": {},
   "outputs": [
    {
     "data": {
      "text/plain": [
       "2"
      ]
     },
     "execution_count": 11,
     "metadata": {},
     "output_type": "execute_result"
    }
   ],
   "source": [
    "l[0]"
   ]
  },
  {
   "cell_type": "code",
   "execution_count": 12,
   "id": "1204da70-d54e-4189-9ba9-8526eec9c7a7",
   "metadata": {},
   "outputs": [
    {
     "data": {
      "text/plain": [
       "2"
      ]
     },
     "execution_count": 12,
     "metadata": {},
     "output_type": "execute_result"
    }
   ],
   "source": [
    "l[-8]"
   ]
  },
  {
   "cell_type": "code",
   "execution_count": 13,
   "id": "24f54b89-67fc-47a7-b8bd-ab7a4af3ca35",
   "metadata": {},
   "outputs": [],
   "source": [
    "# From above as we can see that in both postive and negative values with different indexing values its stating that in particular \n",
    "# it holds the same value which stores on 0 an -8"
   ]
  },
  {
   "cell_type": "code",
   "execution_count": 14,
   "id": "04e73eb8-365c-46a3-b92a-c9ef6e2df15b",
   "metadata": {},
   "outputs": [
    {
     "data": {
      "text/plain": [
       "'Anshu'"
      ]
     },
     "execution_count": 14,
     "metadata": {},
     "output_type": "execute_result"
    }
   ],
   "source": [
    "l[4]"
   ]
  },
  {
   "cell_type": "code",
   "execution_count": 15,
   "id": "ecb58f2d-eaf3-469b-aee7-de2c1b979e46",
   "metadata": {},
   "outputs": [
    {
     "data": {
      "text/plain": [
       "True"
      ]
     },
     "execution_count": 15,
     "metadata": {},
     "output_type": "execute_result"
    }
   ],
   "source": [
    "l[7]"
   ]
  },
  {
   "cell_type": "code",
   "execution_count": 17,
   "id": "28031a38-e627-4713-94bb-948ffb6fe649",
   "metadata": {},
   "outputs": [],
   "source": [
    "l[2] = 3450\n"
   ]
  },
  {
   "cell_type": "code",
   "execution_count": 18,
   "id": "f7296ee7-501e-4fd8-a85a-e7168f22f3cf",
   "metadata": {},
   "outputs": [
    {
     "data": {
      "text/plain": [
       "[2, 3, 3450, 5, 'Anshu', 'rishabh', 45.89, True]"
      ]
     },
     "execution_count": 18,
     "metadata": {},
     "output_type": "execute_result"
    }
   ],
   "source": [
    "l"
   ]
  },
  {
   "cell_type": "raw",
   "id": "abc862df-eecd-4eb9-b1d5-857e8719bdb5",
   "metadata": {},
   "source": [
    "As u can see i had changed the value of index no.2 value 4 to 3450. Changing up of the data is known a Mutable Object."
   ]
  },
  {
   "cell_type": "code",
   "execution_count": 19,
   "id": "cf8ffc6f-689b-4c69-acb6-f7e456713664",
   "metadata": {},
   "outputs": [
    {
     "data": {
      "text/plain": [
       "'R'"
      ]
     },
     "execution_count": 19,
     "metadata": {},
     "output_type": "execute_result"
    }
   ],
   "source": [
    "a[0]"
   ]
  },
  {
   "cell_type": "code",
   "execution_count": 20,
   "id": "3d822775-29fc-45b1-83ef-a5c59e1cd089",
   "metadata": {},
   "outputs": [
    {
     "ename": "NameError",
     "evalue": "name 'e' is not defined",
     "output_type": "error",
     "traceback": [
      "\u001b[0;31m---------------------------------------------------------------------------\u001b[0m",
      "\u001b[0;31mNameError\u001b[0m                                 Traceback (most recent call last)",
      "Cell \u001b[0;32mIn[20], line 1\u001b[0m\n\u001b[0;32m----> 1\u001b[0m a[\u001b[38;5;241m0\u001b[39m] \u001b[38;5;241m=\u001b[39m \u001b[43me\u001b[49m\n",
      "\u001b[0;31mNameError\u001b[0m: name 'e' is not defined"
     ]
    }
   ],
   "source": [
    "a[0] = e"
   ]
  },
  {
   "cell_type": "markdown",
   "id": "2001db2b-6217-45d5-8766-d9d9b249332f",
   "metadata": {},
   "source": [
    "Now as u can see we used a string value in which changing of data is not possible. So it is a Immutable Object. Therefore, the object where the data can be modify that is known by 'Mutable Object'.\n",
    "For Example: List\n",
    "\n",
    "The objects where the data can't be modified that is known as 'Immutable Object'.\n",
    "For Example: String"
   ]
  },
  {
   "cell_type": "code",
   "execution_count": 21,
   "id": "3038012f-22e3-40e2-a384-8cf0326c2ee8",
   "metadata": {},
   "outputs": [],
   "source": [
    "a = 'Eisahbh'"
   ]
  },
  {
   "cell_type": "code",
   "execution_count": 22,
   "id": "861530e2-0684-4336-812f-2f94bf888744",
   "metadata": {},
   "outputs": [
    {
     "data": {
      "text/plain": [
       "'Eisahbh'"
      ]
     },
     "execution_count": 22,
     "metadata": {},
     "output_type": "execute_result"
    }
   ],
   "source": [
    "a"
   ]
  },
  {
   "cell_type": "markdown",
   "id": "848240fe-2883-4f46-83d6-0c0ab401ed4b",
   "metadata": {},
   "source": [
    "By doing the above thing is not changing or modifying of data in this we are deleting the old data and creating a new data."
   ]
  },
  {
   "cell_type": "code",
   "execution_count": null,
   "id": "8277a949-8928-4bb4-9430-d6ff2bfa6630",
   "metadata": {},
   "outputs": [],
   "source": []
  }
 ],
 "metadata": {
  "kernelspec": {
   "display_name": "Python 3 (ipykernel)",
   "language": "python",
   "name": "python3"
  },
  "language_info": {
   "codemirror_mode": {
    "name": "ipython",
    "version": 3
   },
   "file_extension": ".py",
   "mimetype": "text/x-python",
   "name": "python",
   "nbconvert_exporter": "python",
   "pygments_lexer": "ipython3",
   "version": "3.10.8"
  }
 },
 "nbformat": 4,
 "nbformat_minor": 5
}
