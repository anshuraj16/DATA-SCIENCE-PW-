{
 "cells": [
  {
   "cell_type": "code",
   "execution_count": 1,
   "id": "977c458c-4323-454a-8cb9-a90bd9494fde",
   "metadata": {},
   "outputs": [],
   "source": [
    "a = 1"
   ]
  },
  {
   "cell_type": "code",
   "execution_count": 2,
   "id": "d9dba113-04e3-4ab6-84af-75f78840c0df",
   "metadata": {},
   "outputs": [
    {
     "data": {
      "text/plain": [
       "1"
      ]
     },
     "execution_count": 2,
     "metadata": {},
     "output_type": "execute_result"
    }
   ],
   "source": [
    "a"
   ]
  },
  {
   "cell_type": "code",
   "execution_count": 3,
   "id": "2ed24574-d220-46bf-89bc-660241c756e7",
   "metadata": {},
   "outputs": [
    {
     "data": {
      "text/plain": [
       "int"
      ]
     },
     "execution_count": 3,
     "metadata": {},
     "output_type": "execute_result"
    }
   ],
   "source": [
    "type(a)\n"
   ]
  },
  {
   "cell_type": "code",
   "execution_count": 4,
   "id": "56481d73-1b76-4f39-b3f4-e238a29cddf3",
   "metadata": {},
   "outputs": [],
   "source": [
    "b = 'rishabh'"
   ]
  },
  {
   "cell_type": "code",
   "execution_count": 5,
   "id": "3242ef5c-e04e-4bb4-8d1b-be0a88178816",
   "metadata": {},
   "outputs": [
    {
     "data": {
      "text/plain": [
       "'rishabh'"
      ]
     },
     "execution_count": 5,
     "metadata": {},
     "output_type": "execute_result"
    }
   ],
   "source": [
    "b"
   ]
  },
  {
   "cell_type": "code",
   "execution_count": 6,
   "id": "4aade4b1-179c-49ea-9be7-ad01238bf962",
   "metadata": {},
   "outputs": [],
   "source": [
    "c = \"Rishabh\"\n"
   ]
  },
  {
   "cell_type": "code",
   "execution_count": 7,
   "id": "69c51b66-f019-47eb-a03a-d7499e8916cc",
   "metadata": {},
   "outputs": [
    {
     "data": {
      "text/plain": [
       "'Rishabh'"
      ]
     },
     "execution_count": 7,
     "metadata": {},
     "output_type": "execute_result"
    }
   ],
   "source": [
    "c"
   ]
  },
  {
   "cell_type": "code",
   "execution_count": 8,
   "id": "aee64e06-839b-440a-ab32-aa8095e1f423",
   "metadata": {},
   "outputs": [
    {
     "data": {
      "text/plain": [
       "str"
      ]
     },
     "execution_count": 8,
     "metadata": {},
     "output_type": "execute_result"
    }
   ],
   "source": [
    "type(b)\n"
   ]
  },
  {
   "cell_type": "code",
   "execution_count": 9,
   "id": "c1550703-2cba-41d3-a527-e7a2156a3f45",
   "metadata": {},
   "outputs": [
    {
     "data": {
      "text/plain": [
       "str"
      ]
     },
     "execution_count": 9,
     "metadata": {},
     "output_type": "execute_result"
    }
   ],
   "source": [
    "type(c)"
   ]
  },
  {
   "cell_type": "code",
   "execution_count": 10,
   "id": "f954cbea-e409-4386-8bfa-eefbe917c83e",
   "metadata": {},
   "outputs": [
    {
     "ename": "NameError",
     "evalue": "name 'rk12' is not defined",
     "output_type": "error",
     "traceback": [
      "\u001b[0;31m---------------------------------------------------------------------------\u001b[0m",
      "\u001b[0;31mNameError\u001b[0m                                 Traceback (most recent call last)",
      "Cell \u001b[0;32mIn[10], line 1\u001b[0m\n\u001b[0;32m----> 1\u001b[0m d \u001b[38;5;241m=\u001b[39m \u001b[43mrk12\u001b[49m\n",
      "\u001b[0;31mNameError\u001b[0m: name 'rk12' is not defined"
     ]
    }
   ],
   "source": [
    "d = rk12\n"
   ]
  },
  {
   "cell_type": "code",
   "execution_count": 11,
   "id": "05f92460-2321-42d7-a142-099627d0e9eb",
   "metadata": {},
   "outputs": [],
   "source": [
    "d = \"rk12\""
   ]
  },
  {
   "cell_type": "code",
   "execution_count": 12,
   "id": "011f1bec-9999-4147-8bac-e43e1b786b15",
   "metadata": {},
   "outputs": [
    {
     "data": {
      "text/plain": [
       "'rk12'"
      ]
     },
     "execution_count": 12,
     "metadata": {},
     "output_type": "execute_result"
    }
   ],
   "source": [
    "d"
   ]
  },
  {
   "cell_type": "code",
   "execution_count": 13,
   "id": "c1a3d9b7-f7d7-4ee2-8060-ef541abc20d4",
   "metadata": {},
   "outputs": [
    {
     "data": {
      "text/plain": [
       "str"
      ]
     },
     "execution_count": 13,
     "metadata": {},
     "output_type": "execute_result"
    }
   ],
   "source": [
    "type(d)\n"
   ]
  },
  {
   "cell_type": "code",
   "execution_count": 14,
   "id": "a92e8641-2d56-4937-9086-a093e74b2c9a",
   "metadata": {},
   "outputs": [],
   "source": [
    "f = 45.89"
   ]
  },
  {
   "cell_type": "code",
   "execution_count": 15,
   "id": "f8e9dee5-57f6-41fc-95b3-69dfd56dbf45",
   "metadata": {},
   "outputs": [
    {
     "data": {
      "text/plain": [
       "45.89"
      ]
     },
     "execution_count": 15,
     "metadata": {},
     "output_type": "execute_result"
    }
   ],
   "source": [
    "f"
   ]
  },
  {
   "cell_type": "code",
   "execution_count": 16,
   "id": "52b88bdc-eb4f-449b-b031-3b0c70fcbcb7",
   "metadata": {},
   "outputs": [
    {
     "data": {
      "text/plain": [
       "float"
      ]
     },
     "execution_count": 16,
     "metadata": {},
     "output_type": "execute_result"
    }
   ],
   "source": [
    "type(f)"
   ]
  },
  {
   "cell_type": "code",
   "execution_count": 17,
   "id": "aef30d75-d2ca-4807-83b9-a6ed12a82502",
   "metadata": {},
   "outputs": [],
   "source": [
    "g = True"
   ]
  },
  {
   "cell_type": "code",
   "execution_count": 18,
   "id": "e25a68d0-b481-45f0-a4dc-30b4f5bef33f",
   "metadata": {},
   "outputs": [
    {
     "data": {
      "text/plain": [
       "True"
      ]
     },
     "execution_count": 18,
     "metadata": {},
     "output_type": "execute_result"
    }
   ],
   "source": [
    "g"
   ]
  },
  {
   "cell_type": "code",
   "execution_count": 19,
   "id": "1626af16-775b-4856-8e67-b015ce1a3a9d",
   "metadata": {},
   "outputs": [
    {
     "data": {
      "text/plain": [
       "bool"
      ]
     },
     "execution_count": 19,
     "metadata": {},
     "output_type": "execute_result"
    }
   ],
   "source": [
    "type(g)"
   ]
  },
  {
   "cell_type": "code",
   "execution_count": 20,
   "id": "bdff436b-faaa-4cb9-aacc-e7eb6fce5174",
   "metadata": {},
   "outputs": [],
   "source": [
    "h = False"
   ]
  },
  {
   "cell_type": "code",
   "execution_count": 21,
   "id": "15989e05-7784-41d2-9c2f-aa5b518237c4",
   "metadata": {},
   "outputs": [
    {
     "data": {
      "text/plain": [
       "False"
      ]
     },
     "execution_count": 21,
     "metadata": {},
     "output_type": "execute_result"
    }
   ],
   "source": [
    "h"
   ]
  },
  {
   "cell_type": "code",
   "execution_count": 22,
   "id": "d4413c1e-dd4a-40ad-808c-11dd82bc4412",
   "metadata": {},
   "outputs": [
    {
     "data": {
      "text/plain": [
       "bool"
      ]
     },
     "execution_count": 22,
     "metadata": {},
     "output_type": "execute_result"
    }
   ],
   "source": [
    "type(h)"
   ]
  },
  {
   "cell_type": "code",
   "execution_count": 23,
   "id": "bc7abbd2-c603-455d-a06a-919b879c0292",
   "metadata": {},
   "outputs": [
    {
     "data": {
      "text/plain": [
       "1"
      ]
     },
     "execution_count": 23,
     "metadata": {},
     "output_type": "execute_result"
    }
   ],
   "source": [
    "True - False"
   ]
  },
  {
   "cell_type": "code",
   "execution_count": 24,
   "id": "ffbfc45b-1957-4ad0-9e38-a9f3f1f5b432",
   "metadata": {},
   "outputs": [
    {
     "data": {
      "text/plain": [
       "-1"
      ]
     },
     "execution_count": 24,
     "metadata": {},
     "output_type": "execute_result"
    }
   ],
   "source": [
    "False -  True"
   ]
  },
  {
   "cell_type": "code",
   "execution_count": 25,
   "id": "a30153be-aeb8-40ee-a1b3-8970e2e84603",
   "metadata": {},
   "outputs": [
    {
     "data": {
      "text/plain": [
       "0"
      ]
     },
     "execution_count": 25,
     "metadata": {},
     "output_type": "execute_result"
    }
   ],
   "source": [
    "True*False"
   ]
  },
  {
   "cell_type": "code",
   "execution_count": 26,
   "id": "796388a7-e75e-4531-b58a-3549ed77723f",
   "metadata": {},
   "outputs": [
    {
     "ename": "ZeroDivisionError",
     "evalue": "division by zero",
     "output_type": "error",
     "traceback": [
      "\u001b[0;31m---------------------------------------------------------------------------\u001b[0m",
      "\u001b[0;31mZeroDivisionError\u001b[0m                         Traceback (most recent call last)",
      "Cell \u001b[0;32mIn[26], line 1\u001b[0m\n\u001b[0;32m----> 1\u001b[0m \u001b[38;5;28;43;01mTrue\u001b[39;49;00m\u001b[38;5;241;43m/\u001b[39;49m\u001b[38;5;28;43;01mFalse\u001b[39;49;00m\n",
      "\u001b[0;31mZeroDivisionError\u001b[0m: division by zero"
     ]
    }
   ],
   "source": [
    "True/False"
   ]
  },
  {
   "cell_type": "markdown",
   "id": "132f03ab-238b-48e3-a575-c69f4c5f16f4",
   "metadata": {},
   "source": [
    "1/0 is infinity but in the core python it will show ZeroDivisonError but in numpy it will show infinity as its numeric python which helps to compute mathematics."
   ]
  },
  {
   "cell_type": "code",
   "execution_count": 27,
   "id": "42ea7980-b479-4385-92c5-b59dcffde8f2",
   "metadata": {},
   "outputs": [],
   "source": [
    "i = 6 + 56j\n"
   ]
  },
  {
   "cell_type": "code",
   "execution_count": 28,
   "id": "acabdff3-419d-4cea-9313-26a98e57bfe7",
   "metadata": {},
   "outputs": [
    {
     "data": {
      "text/plain": [
       "(6+56j)"
      ]
     },
     "execution_count": 28,
     "metadata": {},
     "output_type": "execute_result"
    }
   ],
   "source": [
    "i"
   ]
  },
  {
   "cell_type": "code",
   "execution_count": 29,
   "id": "dd64ef20-3207-45a6-842d-a40aa447f0d2",
   "metadata": {},
   "outputs": [
    {
     "data": {
      "text/plain": [
       "complex"
      ]
     },
     "execution_count": 29,
     "metadata": {},
     "output_type": "execute_result"
    }
   ],
   "source": [
    "type(i)"
   ]
  },
  {
   "cell_type": "code",
   "execution_count": 30,
   "id": "820d04d1-411d-4369-8094-8b927e3e1cc9",
   "metadata": {},
   "outputs": [
    {
     "ename": "NameError",
     "evalue": "name 'e' is not defined",
     "output_type": "error",
     "traceback": [
      "\u001b[0;31m---------------------------------------------------------------------------\u001b[0m",
      "\u001b[0;31mNameError\u001b[0m                                 Traceback (most recent call last)",
      "Cell \u001b[0;32mIn[30], line 1\u001b[0m\n\u001b[0;32m----> 1\u001b[0m \u001b[43me\u001b[49m\u001b[38;5;241m.\u001b[39mreal\n",
      "\u001b[0;31mNameError\u001b[0m: name 'e' is not defined"
     ]
    }
   ],
   "source": [
    "e.real"
   ]
  },
  {
   "cell_type": "code",
   "execution_count": 31,
   "id": "1bf10899-9494-4e52-bc7b-538a5d735c1c",
   "metadata": {},
   "outputs": [
    {
     "data": {
      "text/plain": [
       "(6+56j)"
      ]
     },
     "execution_count": 31,
     "metadata": {},
     "output_type": "execute_result"
    }
   ],
   "source": [
    "i\n"
   ]
  },
  {
   "cell_type": "code",
   "execution_count": 32,
   "id": "4bf30452-7a0e-42c3-8055-eec322ff3c2d",
   "metadata": {},
   "outputs": [
    {
     "ename": "NameError",
     "evalue": "name 'e' is not defined",
     "output_type": "error",
     "traceback": [
      "\u001b[0;31m---------------------------------------------------------------------------\u001b[0m",
      "\u001b[0;31mNameError\u001b[0m                                 Traceback (most recent call last)",
      "Cell \u001b[0;32mIn[32], line 1\u001b[0m\n\u001b[0;32m----> 1\u001b[0m \u001b[43me\u001b[49m\u001b[38;5;241m.\u001b[39mreal\n",
      "\u001b[0;31mNameError\u001b[0m: name 'e' is not defined"
     ]
    }
   ],
   "source": [
    "e.real\n"
   ]
  },
  {
   "cell_type": "code",
   "execution_count": 33,
   "id": "952e9335-a78d-4605-94f1-9f83704010fc",
   "metadata": {},
   "outputs": [
    {
     "data": {
      "text/plain": [
       "6.0"
      ]
     },
     "execution_count": 33,
     "metadata": {},
     "output_type": "execute_result"
    }
   ],
   "source": [
    "i.real\n"
   ]
  },
  {
   "cell_type": "code",
   "execution_count": 34,
   "id": "2c3ed165-d73a-44cd-981c-9ec7316750b2",
   "metadata": {},
   "outputs": [
    {
     "data": {
      "text/plain": [
       "56.0"
      ]
     },
     "execution_count": 34,
     "metadata": {},
     "output_type": "execute_result"
    }
   ],
   "source": [
    "i.imag"
   ]
  },
  {
   "cell_type": "markdown",
   "id": "c15b42e8-5664-4730-b345-e674d2611c67",
   "metadata": {},
   "source": [
    "e.real line seperate the real number from the equation and e.imag separate the imaginary number from the equation "
   ]
  },
  {
   "cell_type": "markdown",
   "id": "f22b182c-159d-4453-9e75-40d3a05a9739",
   "metadata": {},
   "source": [
    "Giving .0 after every number i a notation in the python like 6.0 and 56.0"
   ]
  },
  {
   "cell_type": "code",
   "execution_count": 35,
   "id": "6ad27dad-d88f-4e25-b175-7b53e1e5ae85",
   "metadata": {},
   "outputs": [],
   "source": [
    "# Properties of Variable in python:"
   ]
  },
  {
   "cell_type": "code",
   "execution_count": 36,
   "id": "9ba14bfc-f27a-439c-b980-79e9cea9864c",
   "metadata": {},
   "outputs": [],
   "source": [
    "#1 Using up of any special character at the beginning of naming any variable will throw  error."
   ]
  },
  {
   "cell_type": "code",
   "execution_count": 37,
   "id": "39f4acc5-74a1-4746-a68a-d30ed61fbe9e",
   "metadata": {},
   "outputs": [],
   "source": [
    "#2 Using a numeric value on the variable will throw the error."
   ]
  },
  {
   "cell_type": "code",
   "execution_count": 38,
   "id": "c08dab0a-dbeb-40df-882c-864d9714e639",
   "metadata": {},
   "outputs": [],
   "source": [
    "#3 We can use underscore '_' in the variable at the beginning. For example:"
   ]
  },
  {
   "cell_type": "code",
   "execution_count": 39,
   "id": "1e01a508-0486-4edc-959e-ff5199d0f451",
   "metadata": {},
   "outputs": [],
   "source": [
    "_a = \"rishabh\""
   ]
  },
  {
   "cell_type": "code",
   "execution_count": 40,
   "id": "53f8f644-c0f5-4d6c-adb9-275e3a9dfac5",
   "metadata": {},
   "outputs": [
    {
     "data": {
      "text/plain": [
       "'rishabh'"
      ]
     },
     "execution_count": 40,
     "metadata": {},
     "output_type": "execute_result"
    }
   ],
   "source": [
    "_a"
   ]
  },
  {
   "cell_type": "code",
   "execution_count": null,
   "id": "bb4012d7-d4cc-42e3-b40a-e54c79c801c0",
   "metadata": {},
   "outputs": [],
   "source": []
  }
 ],
 "metadata": {
  "kernelspec": {
   "display_name": "Python 3 (ipykernel)",
   "language": "python",
   "name": "python3"
  },
  "language_info": {
   "codemirror_mode": {
    "name": "ipython",
    "version": 3
   },
   "file_extension": ".py",
   "mimetype": "text/x-python",
   "name": "python",
   "nbconvert_exporter": "python",
   "pygments_lexer": "ipython3",
   "version": "3.10.8"
  }
 },
 "nbformat": 4,
 "nbformat_minor": 5
}
