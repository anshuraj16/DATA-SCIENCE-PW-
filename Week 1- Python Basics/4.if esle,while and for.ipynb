{
 "cells": [
  {
   "cell_type": "code",
   "execution_count": 1,
   "id": "2ece293b-0889-402b-a2fb-35ffd64ea5a2",
   "metadata": {},
   "outputs": [],
   "source": [
    "a = 10\n",
    "if a > 10:\n",
    "    print(\"Yes a is greater than 10\")"
   ]
  },
  {
   "cell_type": "code",
   "execution_count": 2,
   "id": "a19e20d6-83a0-4d49-a835-5ec44f7dae34",
   "metadata": {},
   "outputs": [
    {
     "data": {
      "text/plain": [
       "False"
      ]
     },
     "execution_count": 2,
     "metadata": {},
     "output_type": "execute_result"
    }
   ],
   "source": [
    "a > 10"
   ]
  },
  {
   "cell_type": "markdown",
   "id": "8f87c71a-001c-48bd-a850-78ca8f0b3ffa",
   "metadata": {},
   "source": [
    "The code didnt printed the result because using comparing operator it comapred whether a is greater \n",
    "than 10 or not but it is not thats why it didnt printed the print statement."
   ]
  },
  {
   "cell_type": "code",
   "execution_count": 3,
   "id": "0c865a00-e2c1-48d1-bc91-b54193a1bc02",
   "metadata": {},
   "outputs": [
    {
     "name": "stdout",
     "output_type": "stream",
     "text": [
      "yes a is greater than equal to 10\n"
     ]
    }
   ],
   "source": [
    "a = 10\n",
    "if a >= 10:\n",
    "    print(\"yes a is greater than equal to 10\")"
   ]
  },
  {
   "cell_type": "code",
   "execution_count": 4,
   "id": "d71d618a-51e4-4acb-ad31-8068446d33dc",
   "metadata": {},
   "outputs": [
    {
     "data": {
      "text/plain": [
       "True"
      ]
     },
     "execution_count": 4,
     "metadata": {},
     "output_type": "execute_result"
    }
   ],
   "source": [
    "a >= 10"
   ]
  },
  {
   "cell_type": "code",
   "execution_count": 7,
   "id": "0c4ac755-329f-49e9-865f-2f3d866e76cb",
   "metadata": {},
   "outputs": [
    {
     "name": "stdout",
     "output_type": "stream",
     "text": [
      "yes b is lesser than 40\n"
     ]
    }
   ],
   "source": [
    "b = 20\n",
    "if b > 30:\n",
    "    print(\"yes b is greater than 30\")\n",
    "elif b < 40:\n",
    "    print(\"yes b is lesser than 40\")\n",
    "else:\n",
    "    print(\"this is my default\")"
   ]
  },
  {
   "cell_type": "code",
   "execution_count": 8,
   "id": "513b6ee8-4f7d-43e6-832e-d3a099eb8866",
   "metadata": {},
   "outputs": [
    {
     "data": {
      "text/plain": [
       "False"
      ]
     },
     "execution_count": 8,
     "metadata": {},
     "output_type": "execute_result"
    }
   ],
   "source": [
    "b > 30"
   ]
  },
  {
   "cell_type": "code",
   "execution_count": 9,
   "id": "0ccb28e0-e3f9-40fd-894a-63f82e59915c",
   "metadata": {},
   "outputs": [
    {
     "data": {
      "text/plain": [
       "True"
      ]
     },
     "execution_count": 9,
     "metadata": {},
     "output_type": "execute_result"
    }
   ],
   "source": [
    "b < 40"
   ]
  },
  {
   "cell_type": "code",
   "execution_count": 11,
   "id": "6e6c5cb4-1a63-4952-9f35-7e5d11dd7b4f",
   "metadata": {},
   "outputs": [
    {
     "name": "stdin",
     "output_type": "stream",
     "text": [
      " 111\n"
     ]
    },
    {
     "name": "stdout",
     "output_type": "stream",
     "text": [
      "yes b is greater than 30\n"
     ]
    }
   ],
   "source": [
    "b = int(input())\n",
    "if b > 30:\n",
    "    print(\"yes b is greater than 30\")\n",
    "elif b < 40:\n",
    "    print(\"yes b is lesser than 40\")\n",
    "elif b > 100:\n",
    "    print(\" yes b is greater than 100\")\n",
    "else:\n",
    "    print(\"this is my default\")"
   ]
  },
  {
   "cell_type": "code",
   "execution_count": 13,
   "id": "1d6df78f-2979-4d7a-970c-91d823220483",
   "metadata": {},
   "outputs": [
    {
     "name": "stdin",
     "output_type": "stream",
     "text": [
      " 2\n"
     ]
    },
    {
     "name": "stdout",
     "output_type": "stream",
     "text": [
      "this is my default\n"
     ]
    }
   ],
   "source": [
    "b = int(input())\n",
    "if b > 30:\n",
    "    print(\"yes b is greater than 30\")\n",
    "elif b > 40:\n",
    "    print(\"yes b is lesser than 40\")\n",
    "elif b > 100:\n",
    "    print(\" yes b is greater than 100\")\n",
    "else:\n",
    "    print(\"this is my default\")"
   ]
  },
  {
   "cell_type": "code",
   "execution_count": 14,
   "id": "cf450e15-acba-435f-a439-be3b7a975e9d",
   "metadata": {},
   "outputs": [
    {
     "data": {
      "text/plain": [
       "int"
      ]
     },
     "execution_count": 14,
     "metadata": {},
     "output_type": "execute_result"
    }
   ],
   "source": [
    "type(b)"
   ]
  },
  {
   "cell_type": "code",
   "execution_count": null,
   "id": "b91fdffc-cd68-4c44-9fa0-4bb3ed15ec72",
   "metadata": {},
   "outputs": [],
   "source": []
  },
  {
   "cell_type": "markdown",
   "id": "c36f1f74-e780-43a4-8a70-d9316b6630c0",
   "metadata": {},
   "source": [
    "While Loop Condition :"
   ]
  },
  {
   "cell_type": "code",
   "execution_count": 1,
   "id": "f3d4e99c-ec86-4ae2-81bc-48ffca1095d4",
   "metadata": {},
   "outputs": [
    {
     "name": "stdout",
     "output_type": "stream",
     "text": [
      "1\n",
      "2\n",
      "3\n"
     ]
    }
   ],
   "source": [
    "n = 4\n",
    "i = 1\n",
    "while i < n:\n",
    "    print(i)\n",
    "    i = i+1"
   ]
  },
  {
   "cell_type": "code",
   "execution_count": 2,
   "id": "a5c59dc3-a5e5-4536-a847-c865530f3518",
   "metadata": {},
   "outputs": [
    {
     "name": "stdout",
     "output_type": "stream",
     "text": [
      "1\n",
      "2\n",
      "3\n",
      "4\n"
     ]
    }
   ],
   "source": [
    "n = 4\n",
    "i = 1\n",
    "while i <= n:\n",
    "    print(i)\n",
    "    i = i+1"
   ]
  },
  {
   "cell_type": "markdown",
   "id": "fe40c0c6-b17d-4538-94f8-f99a37fed7f7",
   "metadata": {},
   "source": [
    "In a 'while' loop with an 'else' clause, the 'else' block will be executed when the 'while' loop terminates naturally. The 'else' block is not executed if the loop is exited using a 'break' statement."
   ]
  },
  {
   "cell_type": "code",
   "execution_count": 4,
   "id": "9f6413d3-bf0a-4bf9-900d-726515a10673",
   "metadata": {},
   "outputs": [
    {
     "name": "stdout",
     "output_type": "stream",
     "text": [
      "1\n",
      "2\n",
      "3\n",
      "this is my else\n"
     ]
    }
   ],
   "source": [
    "n = 4\n",
    "i = 1\n",
    "while i < n:\n",
    "    print(i)\n",
    "    i = i+1\n",
    "else:\n",
    "    print(\"this is my else\")"
   ]
  },
  {
   "cell_type": "code",
   "execution_count": 6,
   "id": "88e81091-40aa-45cb-a8ca-ebb5369d6817",
   "metadata": {},
   "outputs": [
    {
     "name": "stdout",
     "output_type": "stream",
     "text": [
      "1\n",
      "2\n"
     ]
    }
   ],
   "source": [
    "n = 4\n",
    "i = 1\n",
    "while i < n:\n",
    "    print(i)\n",
    "    i = i+1\n",
    "    if i == 3:\n",
    "        break\n",
    "else:\n",
    "    print(\"this is my else\")"
   ]
  },
  {
   "cell_type": "markdown",
   "id": "96446888-344d-4239-a0a4-fbe4055b2f1a",
   "metadata": {},
   "source": [
    "In the provided code snippet, the 'else' condition print statement will not be executed due to the presence of the 'break' keyword. The purpose of using 'break' is to interrupt the execution flow, preventing the execution of the subsequent 'else' condition print statement."
   ]
  },
  {
   "cell_type": "code",
   "execution_count": null,
   "id": "095c0dc6-1d4c-4b1e-bbf3-03ce08088183",
   "metadata": {},
   "outputs": [],
   "source": []
  },
  {
   "cell_type": "markdown",
   "id": "617a3c1e-42e7-444a-b073-fd687d0f3f5f",
   "metadata": {},
   "source": [
    "For Loop :"
   ]
  },
  {
   "cell_type": "code",
   "execution_count": 7,
   "id": "43d54125-831b-410a-929c-e5a392b7019f",
   "metadata": {},
   "outputs": [
    {
     "name": "stdout",
     "output_type": "stream",
     "text": [
      "r\n",
      "i\n",
      "s\n",
      "h\n",
      "a\n",
      "b\n",
      "h\n"
     ]
    }
   ],
   "source": [
    "s = \"rishabh\"\n",
    "for i in s:\n",
    "    print(i)"
   ]
  },
  {
   "cell_type": "code",
   "execution_count": 8,
   "id": "7ef7fda7-ffd4-4e6a-8f76-d83fa7a22004",
   "metadata": {},
   "outputs": [
    {
     "name": "stdout",
     "output_type": "stream",
     "text": [
      "<class 'int'>\n",
      "<class 'int'>\n",
      "<class 'int'>\n",
      "<class 'int'>\n",
      "<class 'str'>\n",
      "<class 'str'>\n",
      "<class 'bool'>\n",
      "<class 'float'>\n"
     ]
    }
   ],
   "source": [
    "l = [2,3,4,5,\"rishabh\",\"anshu\",True,45.678]\n",
    "\n",
    "for i in l :\n",
    "    print(type(i))"
   ]
  },
  {
   "cell_type": "code",
   "execution_count": 9,
   "id": "67f6bb9e-308a-4bbd-aa8b-88d613832377",
   "metadata": {},
   "outputs": [
    {
     "name": "stdout",
     "output_type": "stream",
     "text": [
      "<class 'int'>\n",
      "<class 'int'>\n",
      "<class 'int'>\n",
      "<class 'int'>\n",
      "<class 'str'>\n",
      "<class 'str'>\n",
      "<class 'bool'>\n",
      "<class 'float'>\n",
      "this will be executed once for loop will complete itself sucessfully\n"
     ]
    }
   ],
   "source": [
    "l = [2,3,4,5,\"rishabh\",\"anshu\",True,45.678]\n",
    "\n",
    "for i in l :\n",
    "    print(type(i))\n",
    "else:\n",
    "    print(\"this will be executed once for loop will complete itself sucessfully\")"
   ]
  },
  {
   "cell_type": "code",
   "execution_count": 12,
   "id": "a4c9b4ea-76d8-4f5e-8988-79b04ba3550e",
   "metadata": {},
   "outputs": [
    {
     "name": "stdout",
     "output_type": "stream",
     "text": [
      "<class 'int'>\n",
      "<class 'int'>\n",
      "<class 'int'>\n",
      "<class 'int'>\n"
     ]
    }
   ],
   "source": [
    "l = [2,3,4,5,\"rishabh\",\"anshu\",True,45.678]\n",
    "\n",
    "for i in l :\n",
    "    print(type(i))\n",
    "    if i == 5 :\n",
    "        break\n",
    "else:\n",
    "    print(\"this will be executed once for loop will complete itself sucessfully\")"
   ]
  },
  {
   "cell_type": "code",
   "execution_count": 13,
   "id": "1f36bbf6-ae2c-4052-b6a2-11a3237fc264",
   "metadata": {},
   "outputs": [
    {
     "data": {
      "text/plain": [
       "[2, 3, 4, 5, 'rishabh', 'anshu', True, 45.678]"
      ]
     },
     "execution_count": 13,
     "metadata": {},
     "output_type": "execute_result"
    }
   ],
   "source": [
    "l"
   ]
  },
  {
   "cell_type": "code",
   "execution_count": 14,
   "id": "60215b0a-4ce9-4885-b500-a9c68944bbc5",
   "metadata": {},
   "outputs": [
    {
     "name": "stdout",
     "output_type": "stream",
     "text": [
      "<class 'int'>\n",
      "2\n",
      "<class 'int'>\n",
      "3\n",
      "<class 'int'>\n",
      "4\n",
      "<class 'int'>\n",
      "<class 'str'>\n",
      "rishabh\n",
      "<class 'str'>\n",
      "anshu\n",
      "<class 'bool'>\n",
      "True\n",
      "<class 'float'>\n",
      "45.678\n",
      "this will be executed once for loop will complete itself sucessfully\n"
     ]
    }
   ],
   "source": [
    "l = [2,3,4,5,\"rishabh\",\"anshu\",True,45.678]\n",
    "\n",
    "for i in l :\n",
    "    print(type(i))\n",
    "    if i == 5 :\n",
    "        continue \n",
    "    print(i)\n",
    "else:\n",
    "    print(\"this will be executed once for loop will complete itself sucessfully\")"
   ]
  },
  {
   "cell_type": "markdown",
   "id": "9be58023-242f-4782-b9c5-6849027a663f",
   "metadata": {},
   "source": [
    "\"Continue\" is a keyword that directly transfers control to the for loop. That's why the number 5 has not been printed, as indicated in the above code."
   ]
  },
  {
   "cell_type": "code",
   "execution_count": null,
   "id": "f8c070af-c6ff-4402-bfb6-506a157d6daf",
   "metadata": {},
   "outputs": [],
   "source": []
  },
  {
   "cell_type": "markdown",
   "id": "8ec9abe8-f3ff-4792-886c-baffbdb691b7",
   "metadata": {},
   "source": [
    "Range Function :"
   ]
  },
  {
   "cell_type": "markdown",
   "id": "31f32a4e-9b6f-4b2f-b6f4-6e1bbb79cd88",
   "metadata": {},
   "source": [
    "The 'range function' generates a sequence of numbers, but to make this sequence visible, you need to use it within a list."
   ]
  },
  {
   "cell_type": "code",
   "execution_count": 15,
   "id": "eda1416a-e7e5-4197-afbf-8dd4cacc876b",
   "metadata": {},
   "outputs": [
    {
     "data": {
      "text/plain": [
       "range(0, 10)"
      ]
     },
     "execution_count": 15,
     "metadata": {},
     "output_type": "execute_result"
    }
   ],
   "source": [
    "range(10)"
   ]
  },
  {
   "cell_type": "code",
   "execution_count": 16,
   "id": "fa0d87ca-cb60-4951-880d-bd76859d6357",
   "metadata": {},
   "outputs": [
    {
     "data": {
      "text/plain": [
       "[0, 1, 2, 3, 4, 5, 6, 7, 8, 9]"
      ]
     },
     "execution_count": 16,
     "metadata": {},
     "output_type": "execute_result"
    }
   ],
   "source": [
    "list(range(10))"
   ]
  },
  {
   "cell_type": "code",
   "execution_count": null,
   "id": "a2281149-94f3-4020-809e-c0863144505c",
   "metadata": {},
   "outputs": [],
   "source": []
  }
 ],
 "metadata": {
  "kernelspec": {
   "display_name": "Python 3 (ipykernel)",
   "language": "python",
   "name": "python3"
  },
  "language_info": {
   "codemirror_mode": {
    "name": "ipython",
    "version": 3
   },
   "file_extension": ".py",
   "mimetype": "text/x-python",
   "name": "python",
   "nbconvert_exporter": "python",
   "pygments_lexer": "ipython3",
   "version": "3.10.8"
  }
 },
 "nbformat": 4,
 "nbformat_minor": 5
}
