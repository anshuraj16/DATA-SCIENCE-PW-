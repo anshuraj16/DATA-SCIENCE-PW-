{
 "cells": [
  {
   "cell_type": "markdown",
   "id": "cdf775a5-3a1b-4a12-9453-187dd8d04cda",
   "metadata": {},
   "source": [
    "Arithmetic Operators:\n"
   ]
  },
  {
   "cell_type": "code",
   "execution_count": 1,
   "id": "8c5f0aa7-9591-4b55-b65a-7e6e6c8375c0",
   "metadata": {},
   "outputs": [
    {
     "data": {
      "text/plain": [
       "2"
      ]
     },
     "execution_count": 1,
     "metadata": {},
     "output_type": "execute_result"
    }
   ],
   "source": [
    "1 + 1\n"
   ]
  },
  {
   "cell_type": "code",
   "execution_count": 2,
   "id": "2d993cf3-97c7-4419-9d70-8eb7972a0484",
   "metadata": {},
   "outputs": [
    {
     "data": {
      "text/plain": [
       "-1"
      ]
     },
     "execution_count": 2,
     "metadata": {},
     "output_type": "execute_result"
    }
   ],
   "source": [
    "1 - 2"
   ]
  },
  {
   "cell_type": "code",
   "execution_count": 3,
   "id": "4635a9e4-55d1-43f3-972a-590f0740b6c6",
   "metadata": {},
   "outputs": [
    {
     "data": {
      "text/plain": [
       "0"
      ]
     },
     "execution_count": 3,
     "metadata": {},
     "output_type": "execute_result"
    }
   ],
   "source": [
    "2 - 2"
   ]
  },
  {
   "cell_type": "code",
   "execution_count": 4,
   "id": "79afca56-5d15-4f23-870e-c7b5d9d8c3b2",
   "metadata": {},
   "outputs": [
    {
     "data": {
      "text/plain": [
       "8"
      ]
     },
     "execution_count": 4,
     "metadata": {},
     "output_type": "execute_result"
    }
   ],
   "source": [
    "2 *4"
   ]
  },
  {
   "cell_type": "code",
   "execution_count": 5,
   "id": "7153c4fb-26ce-4060-82e1-946d55b673b7",
   "metadata": {},
   "outputs": [
    {
     "data": {
      "text/plain": [
       "2"
      ]
     },
     "execution_count": 5,
     "metadata": {},
     "output_type": "execute_result"
    }
   ],
   "source": [
    "2%4"
   ]
  },
  {
   "cell_type": "code",
   "execution_count": 6,
   "id": "adb6b201-30c1-4706-9c3b-8f9fc35159f8",
   "metadata": {},
   "outputs": [],
   "source": [
    "# '%' This symbols represents modulus which give the remainder value from the division."
   ]
  },
  {
   "cell_type": "code",
   "execution_count": 7,
   "id": "ebda9352-3ff7-4314-8208-6216d2d642b9",
   "metadata": {},
   "outputs": [
    {
     "data": {
      "text/plain": [
       "0.5"
      ]
     },
     "execution_count": 7,
     "metadata": {},
     "output_type": "execute_result"
    }
   ],
   "source": [
    "1/2"
   ]
  },
  {
   "cell_type": "code",
   "execution_count": 8,
   "id": "89dabbc8-9305-4ca7-84f3-20aafbb9dcb6",
   "metadata": {},
   "outputs": [
    {
     "data": {
      "text/plain": [
       "16"
      ]
     },
     "execution_count": 8,
     "metadata": {},
     "output_type": "execute_result"
    }
   ],
   "source": [
    "2**4"
   ]
  },
  {
   "cell_type": "code",
   "execution_count": 9,
   "id": "51dd5c24-3efb-49d0-a705-af74c14ead57",
   "metadata": {},
   "outputs": [],
   "source": [
    "# '**' Double star represents as exponential (Power of)."
   ]
  },
  {
   "cell_type": "code",
   "execution_count": 11,
   "id": "b1ef9e5e-6015-40d4-a554-69511b604ec6",
   "metadata": {},
   "outputs": [
    {
     "data": {
      "text/plain": [
       "1"
      ]
     },
     "execution_count": 11,
     "metadata": {},
     "output_type": "execute_result"
    }
   ],
   "source": [
    "5 // 4"
   ]
  },
  {
   "cell_type": "code",
   "execution_count": 12,
   "id": "417e4978-22dd-4e77-8201-e92c7da08c35",
   "metadata": {},
   "outputs": [],
   "source": [
    "# This is known as divison floor."
   ]
  },
  {
   "cell_type": "markdown",
   "id": "96e42523-0110-4a09-b2a9-d117d7cbb882",
   "metadata": {},
   "source": [
    "\n"
   ]
  },
  {
   "cell_type": "markdown",
   "id": "90d32754-1749-4406-9c9d-b5320c734eaf",
   "metadata": {},
   "source": [
    "Comparison Operators:"
   ]
  },
  {
   "cell_type": "code",
   "execution_count": 13,
   "id": "37faeb3b-b9a9-4792-9480-2f8245d4148a",
   "metadata": {},
   "outputs": [
    {
     "data": {
      "text/plain": [
       "False"
      ]
     },
     "execution_count": 13,
     "metadata": {},
     "output_type": "execute_result"
    }
   ],
   "source": [
    "1 > 2"
   ]
  },
  {
   "cell_type": "code",
   "execution_count": 14,
   "id": "dcd453c9-f32d-44fc-bc43-a00ef70ad871",
   "metadata": {},
   "outputs": [
    {
     "data": {
      "text/plain": [
       "True"
      ]
     },
     "execution_count": 14,
     "metadata": {},
     "output_type": "execute_result"
    }
   ],
   "source": [
    "1 < 2"
   ]
  },
  {
   "cell_type": "code",
   "execution_count": 15,
   "id": "7306606f-3923-4df3-a220-bd2570643f3d",
   "metadata": {},
   "outputs": [
    {
     "data": {
      "text/plain": [
       "False"
      ]
     },
     "execution_count": 15,
     "metadata": {},
     "output_type": "execute_result"
    }
   ],
   "source": [
    "1 == 2"
   ]
  },
  {
   "cell_type": "code",
   "execution_count": 16,
   "id": "67e42aa4-2450-400e-92e2-3b2e4e54d881",
   "metadata": {},
   "outputs": [],
   "source": [
    "# '=' this states that we are assigning value. But ' == ' is for coampring the two values."
   ]
  },
  {
   "cell_type": "code",
   "execution_count": 17,
   "id": "47d36e6d-7c50-4530-9f68-dc230a5e64bd",
   "metadata": {},
   "outputs": [
    {
     "data": {
      "text/plain": [
       "True"
      ]
     },
     "execution_count": 17,
     "metadata": {},
     "output_type": "execute_result"
    }
   ],
   "source": [
    "2 == 2"
   ]
  },
  {
   "cell_type": "code",
   "execution_count": 18,
   "id": "f6a0e3b2-18c7-4ddd-a0c4-f8bc806b4e68",
   "metadata": {},
   "outputs": [
    {
     "data": {
      "text/plain": [
       "True"
      ]
     },
     "execution_count": 18,
     "metadata": {},
     "output_type": "execute_result"
    }
   ],
   "source": [
    "1 != 2"
   ]
  },
  {
   "cell_type": "code",
   "execution_count": 19,
   "id": "ff2d9d42-f1ba-4b8e-a092-e27323d7ea9a",
   "metadata": {},
   "outputs": [
    {
     "data": {
      "text/plain": [
       "False"
      ]
     },
     "execution_count": 19,
     "metadata": {},
     "output_type": "execute_result"
    }
   ],
   "source": [
    "1 != 1"
   ]
  },
  {
   "cell_type": "code",
   "execution_count": 20,
   "id": "55cab039-e16a-418c-ab65-24a11a028122",
   "metadata": {},
   "outputs": [
    {
     "data": {
      "text/plain": [
       "True"
      ]
     },
     "execution_count": 20,
     "metadata": {},
     "output_type": "execute_result"
    }
   ],
   "source": [
    "2 >= 1"
   ]
  },
  {
   "cell_type": "code",
   "execution_count": 21,
   "id": "75989cea-9b7f-41f1-8380-454e2f982232",
   "metadata": {},
   "outputs": [
    {
     "data": {
      "text/plain": [
       "True"
      ]
     },
     "execution_count": 21,
     "metadata": {},
     "output_type": "execute_result"
    }
   ],
   "source": [
    "2 >= 2"
   ]
  },
  {
   "cell_type": "code",
   "execution_count": 23,
   "id": "2347f268-be0c-4ba7-b1e2-c5fb61b3c290",
   "metadata": {},
   "outputs": [
    {
     "data": {
      "text/plain": [
       "False"
      ]
     },
     "execution_count": 23,
     "metadata": {},
     "output_type": "execute_result"
    }
   ],
   "source": [
    "2 <= 1"
   ]
  },
  {
   "cell_type": "markdown",
   "id": "bbce90da-4b7f-4a62-b235-7fc30c33cfd4",
   "metadata": {},
   "source": [
    "Logical Operators:"
   ]
  },
  {
   "cell_type": "markdown",
   "id": "3493fccb-f143-4eee-8dd3-211f167150f4",
   "metadata": {},
   "source": [
    "There are 3 types of Logical Operators, which are:\n",
    "1. AND\n",
    "2. OR\n",
    "3. NOT\n",
    "\n",
    "- AND: In this operator if both are True then only we will get True(1) as result , if any one condition is flase then it will throw result False(0).\n",
    "\n",
    "- OR: In this operator if any single condition is True(1) it will give result as True(1), if  both are False(0) then it will give reuslt as False(0)."
   ]
  },
  {
   "cell_type": "markdown",
   "id": "ec68c829-65a6-4ae4-b849-bd8938f28c49",
   "metadata": {},
   "source": [
    "AND Logical Operator:"
   ]
  },
  {
   "cell_type": "code",
   "execution_count": 26,
   "id": "af442ca9-3fd0-45c4-85a6-12d1eb82b3f1",
   "metadata": {},
   "outputs": [
    {
     "data": {
      "text/plain": [
       "1"
      ]
     },
     "execution_count": 26,
     "metadata": {},
     "output_type": "execute_result"
    }
   ],
   "source": [
    "1 and 1"
   ]
  },
  {
   "cell_type": "code",
   "execution_count": 27,
   "id": "e1cb15c8-2685-4acd-a341-2340d512a39b",
   "metadata": {},
   "outputs": [
    {
     "data": {
      "text/plain": [
       "0"
      ]
     },
     "execution_count": 27,
     "metadata": {},
     "output_type": "execute_result"
    }
   ],
   "source": [
    "1 and 0"
   ]
  },
  {
   "cell_type": "code",
   "execution_count": 28,
   "id": "6f851ea5-c229-4b8b-b883-454cd2d7b3c6",
   "metadata": {},
   "outputs": [
    {
     "data": {
      "text/plain": [
       "0"
      ]
     },
     "execution_count": 28,
     "metadata": {},
     "output_type": "execute_result"
    }
   ],
   "source": [
    "0 and 1"
   ]
  },
  {
   "cell_type": "code",
   "execution_count": 29,
   "id": "5a138e0d-e25e-4f24-82e3-8230b8598dcd",
   "metadata": {},
   "outputs": [
    {
     "data": {
      "text/plain": [
       "0"
      ]
     },
     "execution_count": 29,
     "metadata": {},
     "output_type": "execute_result"
    }
   ],
   "source": [
    "0 and 0"
   ]
  },
  {
   "cell_type": "markdown",
   "id": "b4fac952-3159-4875-be87-745cdbf6a6f2",
   "metadata": {},
   "source": [
    "OR Logical Operators:"
   ]
  },
  {
   "cell_type": "code",
   "execution_count": 30,
   "id": "8a7334f0-fc4f-4023-8fdf-1ac6203d0347",
   "metadata": {},
   "outputs": [
    {
     "data": {
      "text/plain": [
       "1"
      ]
     },
     "execution_count": 30,
     "metadata": {},
     "output_type": "execute_result"
    }
   ],
   "source": [
    "1 or 1"
   ]
  },
  {
   "cell_type": "code",
   "execution_count": 31,
   "id": "1eb89a90-f894-4fb2-96f3-3dfc787960ea",
   "metadata": {},
   "outputs": [
    {
     "data": {
      "text/plain": [
       "1"
      ]
     },
     "execution_count": 31,
     "metadata": {},
     "output_type": "execute_result"
    }
   ],
   "source": [
    "0 or 1\n"
   ]
  },
  {
   "cell_type": "code",
   "execution_count": 32,
   "id": "0d7de261-8e9a-4b47-88ff-df89b187acb4",
   "metadata": {},
   "outputs": [
    {
     "data": {
      "text/plain": [
       "1"
      ]
     },
     "execution_count": 32,
     "metadata": {},
     "output_type": "execute_result"
    }
   ],
   "source": [
    "1 or 0"
   ]
  },
  {
   "cell_type": "code",
   "execution_count": 33,
   "id": "c3a88d6a-a61a-4593-93ab-7a71130195fa",
   "metadata": {},
   "outputs": [
    {
     "data": {
      "text/plain": [
       "0"
      ]
     },
     "execution_count": 33,
     "metadata": {},
     "output_type": "execute_result"
    }
   ],
   "source": [
    "0 or 0"
   ]
  },
  {
   "cell_type": "markdown",
   "id": "8318128b-563a-425e-9798-f198474da7ca",
   "metadata": {},
   "source": [
    "NOT Logical Operators:"
   ]
  },
  {
   "cell_type": "code",
   "execution_count": 34,
   "id": "d2ba4a0a-51d6-4251-b934-4b1ae382a419",
   "metadata": {},
   "outputs": [
    {
     "data": {
      "text/plain": [
       "False"
      ]
     },
     "execution_count": 34,
     "metadata": {},
     "output_type": "execute_result"
    }
   ],
   "source": [
    "not 1"
   ]
  },
  {
   "cell_type": "code",
   "execution_count": 35,
   "id": "ca485ad3-a16a-4c02-8a71-5fc281f014dc",
   "metadata": {},
   "outputs": [
    {
     "data": {
      "text/plain": [
       "True"
      ]
     },
     "execution_count": 35,
     "metadata": {},
     "output_type": "execute_result"
    }
   ],
   "source": [
    "not 0"
   ]
  },
  {
   "cell_type": "code",
   "execution_count": 36,
   "id": "b40f9a04-ffb2-4685-a307-d15634c6397f",
   "metadata": {},
   "outputs": [],
   "source": [
    "# Here False represents as 0 and True represents as 1."
   ]
  },
  {
   "cell_type": "markdown",
   "id": "daf8761b-33b0-4073-9c8d-f3a0f8b017cf",
   "metadata": {},
   "source": [
    "Bit-wise Operators:"
   ]
  },
  {
   "cell_type": "markdown",
   "id": "30c4ecf7-78ca-4ae6-8916-b481aa5063ae",
   "metadata": {},
   "source": [
    "There are 4 different types of Bit-wise Operators which are:\n",
    "\n",
    "-BIT-WISE AND OPERATOR(&)\n",
    "\n",
    "-BIT-WISE OR OPERATOR(|)\n",
    "\n",
    "-BIT-WISE NOT OPERATOR(~)\n",
    "\n",
    "-BIT-WISE RIGHT SHIFT OPERATOR(>>)\n",
    "\n",
    "-BIT-WISE LEFT SHIFT OPREATOR(<<)\n"
   ]
  },
  {
   "cell_type": "markdown",
   "id": "d7072b69-e8d3-41bc-b731-c215dc30df22",
   "metadata": {},
   "source": [
    "1.Bit-wise AND Operator(&): In this operator '&' symbol repersents AND gate from logical operator."
   ]
  },
  {
   "cell_type": "code",
   "execution_count": 1,
   "id": "45e55fa2-7075-4e85-b1ac-059966e865a8",
   "metadata": {},
   "outputs": [
    {
     "data": {
      "text/plain": [
       "20"
      ]
     },
     "execution_count": 1,
     "metadata": {},
     "output_type": "execute_result"
    }
   ],
   "source": [
    "20 & 23"
   ]
  },
  {
   "cell_type": "code",
   "execution_count": 2,
   "id": "5bb6dd5a-06ea-406e-9cc0-da0557375559",
   "metadata": {},
   "outputs": [
    {
     "data": {
      "text/plain": [
       "'0b10100'"
      ]
     },
     "execution_count": 2,
     "metadata": {},
     "output_type": "execute_result"
    }
   ],
   "source": [
    "bin(20)"
   ]
  },
  {
   "cell_type": "code",
   "execution_count": 3,
   "id": "ea41ecdd-8954-4057-8735-2df2bc95884c",
   "metadata": {},
   "outputs": [
    {
     "data": {
      "text/plain": [
       "'0b10111'"
      ]
     },
     "execution_count": 3,
     "metadata": {},
     "output_type": "execute_result"
    }
   ],
   "source": [
    "bin(23)"
   ]
  },
  {
   "cell_type": "markdown",
   "id": "5f3a6d65-32a8-47ae-a809-2393ab90e3ea",
   "metadata": {},
   "source": [
    "1 1----> 1\n",
    "\n",
    "0 0----> 0\n",
    "\n",
    "1 1----> 1\n",
    "\n",
    "0 1----> 0\n",
    "\n",
    "0 1----> 0\n",
    "\n",
    "This is how the result became 20.Because we are applying AND gate logic so binary value of 20 is 10100. "
   ]
  },
  {
   "cell_type": "markdown",
   "id": "50d8819f-8c90-4345-836e-b0c07bcf7ba8",
   "metadata": {},
   "source": [
    "2.Bit-wise OR Operator(|): In this operator '|' symbol repersents OR gate from logical operator."
   ]
  },
  {
   "cell_type": "code",
   "execution_count": 4,
   "id": "e4ddf1c3-9a88-4256-8024-423fa24de3d9",
   "metadata": {},
   "outputs": [
    {
     "data": {
      "text/plain": [
       "15"
      ]
     },
     "execution_count": 4,
     "metadata": {},
     "output_type": "execute_result"
    }
   ],
   "source": [
    "11 | 6"
   ]
  },
  {
   "cell_type": "code",
   "execution_count": 5,
   "id": "ff114458-cec5-48ce-9591-344c8b66a287",
   "metadata": {},
   "outputs": [
    {
     "data": {
      "text/plain": [
       "'0b1011'"
      ]
     },
     "execution_count": 5,
     "metadata": {},
     "output_type": "execute_result"
    }
   ],
   "source": [
    "bin(11)"
   ]
  },
  {
   "cell_type": "code",
   "execution_count": 6,
   "id": "2702cd68-5165-4dec-a222-2af4abb9840b",
   "metadata": {},
   "outputs": [
    {
     "data": {
      "text/plain": [
       "'0b110'"
      ]
     },
     "execution_count": 6,
     "metadata": {},
     "output_type": "execute_result"
    }
   ],
   "source": [
    "bin(6)"
   ]
  },
  {
   "cell_type": "markdown",
   "id": "aa28279c-344b-4d81-8566-832645fd0bba",
   "metadata": {},
   "source": [
    "3.Bit-wise NOT Operator(~): In this operator '~' symbol repersents NOT gate from logical operator.\n"
   ]
  },
  {
   "cell_type": "code",
   "execution_count": 7,
   "id": "bb5727c6-4b05-42d5-99de-70a9b223a6ac",
   "metadata": {},
   "outputs": [
    {
     "data": {
      "text/plain": [
       "-13"
      ]
     },
     "execution_count": 7,
     "metadata": {},
     "output_type": "execute_result"
    }
   ],
   "source": [
    "~ 12"
   ]
  },
  {
   "cell_type": "code",
   "execution_count": 8,
   "id": "86f3e415-314b-4be2-8e92-34b52622559c",
   "metadata": {},
   "outputs": [
    {
     "data": {
      "text/plain": [
       "'0b1100'"
      ]
     },
     "execution_count": 8,
     "metadata": {},
     "output_type": "execute_result"
    }
   ],
   "source": [
    "bin(12)"
   ]
  },
  {
   "cell_type": "markdown",
   "id": "99e87e74-17a4-406b-b575-5bec10fa6475",
   "metadata": {},
   "source": [
    "Here, -(1100 + 1) = -(1101) = -(13)"
   ]
  },
  {
   "cell_type": "code",
   "execution_count": 9,
   "id": "c59172ff-fad4-40ec-a578-a64e1026d81b",
   "metadata": {},
   "outputs": [
    {
     "data": {
      "text/plain": [
       "'-0b1101'"
      ]
     },
     "execution_count": 9,
     "metadata": {},
     "output_type": "execute_result"
    }
   ],
   "source": [
    "bin(-13)"
   ]
  },
  {
   "cell_type": "markdown",
   "id": "4e31c5a9-ded9-4930-af20-a0b5cbfe1077",
   "metadata": {},
   "source": [
    "4.Right Shift-wise Operator(>>) : In this operator '>>' this symbols represent the shifting bits to right side."
   ]
  },
  {
   "cell_type": "code",
   "execution_count": 10,
   "id": "602e1703-860f-4845-8c85-b4ba1456ab10",
   "metadata": {},
   "outputs": [
    {
     "data": {
      "text/plain": [
       "0"
      ]
     },
     "execution_count": 10,
     "metadata": {},
     "output_type": "execute_result"
    }
   ],
   "source": [
    "2 >> 3"
   ]
  },
  {
   "cell_type": "code",
   "execution_count": 11,
   "id": "0d92377a-e434-4bbe-b007-ec2db994c4b0",
   "metadata": {},
   "outputs": [
    {
     "data": {
      "text/plain": [
       "0"
      ]
     },
     "execution_count": 11,
     "metadata": {},
     "output_type": "execute_result"
    }
   ],
   "source": [
    "20 >> 34"
   ]
  },
  {
   "cell_type": "code",
   "execution_count": 12,
   "id": "9a0cb285-2ac1-4b0a-aa9c-e0916f2bf53a",
   "metadata": {},
   "outputs": [
    {
     "data": {
      "text/plain": [
       "0"
      ]
     },
     "execution_count": 12,
     "metadata": {},
     "output_type": "execute_result"
    }
   ],
   "source": [
    "1 >> 4"
   ]
  },
  {
   "cell_type": "markdown",
   "id": "03f3be33-c457-4e8a-80f6-e3b9d1c94e4f",
   "metadata": {},
   "source": [
    "5.Left Shift-wise Operator(<<): Th this operator '<<' this symbols represents the shifting bits to left side."
   ]
  },
  {
   "cell_type": "code",
   "execution_count": 13,
   "id": "bf21151a-cb2b-42ae-9c68-244ce4eb0a46",
   "metadata": {},
   "outputs": [
    {
     "data": {
      "text/plain": [
       "16"
      ]
     },
     "execution_count": 13,
     "metadata": {},
     "output_type": "execute_result"
    }
   ],
   "source": [
    "2 << 3"
   ]
  },
  {
   "cell_type": "code",
   "execution_count": 14,
   "id": "96c54650-0670-4b65-92a8-848c597e6462",
   "metadata": {},
   "outputs": [
    {
     "data": {
      "text/plain": [
       "512"
      ]
     },
     "execution_count": 14,
     "metadata": {},
     "output_type": "execute_result"
    }
   ],
   "source": [
    "4 << 7"
   ]
  },
  {
   "cell_type": "code",
   "execution_count": null,
   "id": "091fd7b2-dcb6-4b26-8957-1be9a02c1617",
   "metadata": {},
   "outputs": [],
   "source": []
  },
  {
   "cell_type": "markdown",
   "id": "21dd2c1d-a50c-41b3-9df3-d1e9e2bcdeae",
   "metadata": {},
   "source": [
    "Assignment Operators:"
   ]
  },
  {
   "cell_type": "code",
   "execution_count": 15,
   "id": "e501436f-f747-41e5-b0c5-d2f9267e4ed8",
   "metadata": {},
   "outputs": [],
   "source": [
    "a = 10"
   ]
  },
  {
   "cell_type": "code",
   "execution_count": 16,
   "id": "52e03099-96cb-4b69-b864-7b9362e0fa8d",
   "metadata": {},
   "outputs": [
    {
     "data": {
      "text/plain": [
       "10"
      ]
     },
     "execution_count": 16,
     "metadata": {},
     "output_type": "execute_result"
    }
   ],
   "source": [
    "a"
   ]
  },
  {
   "cell_type": "code",
   "execution_count": 17,
   "id": "2dd5eb26-c056-4730-b75c-0a39d385e6ff",
   "metadata": {},
   "outputs": [],
   "source": [
    "a += 1"
   ]
  },
  {
   "cell_type": "code",
   "execution_count": 18,
   "id": "6616604f-3925-4c8a-893b-bec17e5d0cab",
   "metadata": {},
   "outputs": [
    {
     "data": {
      "text/plain": [
       "11"
      ]
     },
     "execution_count": 18,
     "metadata": {},
     "output_type": "execute_result"
    }
   ],
   "source": [
    "a"
   ]
  },
  {
   "cell_type": "code",
   "execution_count": 19,
   "id": "bfaf1d0f-8f71-4f63-b5d9-adbe04a46c5d",
   "metadata": {},
   "outputs": [],
   "source": [
    "b = 21"
   ]
  },
  {
   "cell_type": "code",
   "execution_count": 20,
   "id": "70c9f001-8a21-4a65-a74e-79d9d60fb0cf",
   "metadata": {},
   "outputs": [
    {
     "data": {
      "text/plain": [
       "21"
      ]
     },
     "execution_count": 20,
     "metadata": {},
     "output_type": "execute_result"
    }
   ],
   "source": [
    "b"
   ]
  },
  {
   "cell_type": "code",
   "execution_count": 21,
   "id": "5db55649-e672-4f84-99b9-b6f7045abec9",
   "metadata": {},
   "outputs": [],
   "source": [
    "b -= 1"
   ]
  },
  {
   "cell_type": "code",
   "execution_count": 22,
   "id": "5bf3e611-5611-4f61-9703-beb4610e90ec",
   "metadata": {},
   "outputs": [
    {
     "data": {
      "text/plain": [
       "20"
      ]
     },
     "execution_count": 22,
     "metadata": {},
     "output_type": "execute_result"
    }
   ],
   "source": [
    "b"
   ]
  },
  {
   "cell_type": "code",
   "execution_count": 23,
   "id": "e510df4d-6e5a-428f-acd1-d7f34f1fe78e",
   "metadata": {},
   "outputs": [],
   "source": [
    "c = 12"
   ]
  },
  {
   "cell_type": "code",
   "execution_count": 24,
   "id": "54e0305f-7082-416b-9065-de07a9884d46",
   "metadata": {},
   "outputs": [
    {
     "data": {
      "text/plain": [
       "12"
      ]
     },
     "execution_count": 24,
     "metadata": {},
     "output_type": "execute_result"
    }
   ],
   "source": [
    "c"
   ]
  },
  {
   "cell_type": "code",
   "execution_count": 25,
   "id": "6e48eef5-8e98-45c6-abd2-0a222d8492f7",
   "metadata": {},
   "outputs": [],
   "source": [
    "c *= 2"
   ]
  },
  {
   "cell_type": "code",
   "execution_count": 26,
   "id": "67074225-117f-4557-bfee-7c2e5fa07b78",
   "metadata": {},
   "outputs": [
    {
     "data": {
      "text/plain": [
       "24"
      ]
     },
     "execution_count": 26,
     "metadata": {},
     "output_type": "execute_result"
    }
   ],
   "source": [
    "c"
   ]
  },
  {
   "cell_type": "code",
   "execution_count": null,
   "id": "055e8179-d9fa-4cf2-abfb-e5011062dbc2",
   "metadata": {},
   "outputs": [],
   "source": []
  }
 ],
 "metadata": {
  "kernelspec": {
   "display_name": "Python 3 (ipykernel)",
   "language": "python",
   "name": "python3"
  },
  "language_info": {
   "codemirror_mode": {
    "name": "ipython",
    "version": 3
   },
   "file_extension": ".py",
   "mimetype": "text/x-python",
   "name": "python",
   "nbconvert_exporter": "python",
   "pygments_lexer": "ipython3",
   "version": "3.10.8"
  }
 },
 "nbformat": 4,
 "nbformat_minor": 5
}
